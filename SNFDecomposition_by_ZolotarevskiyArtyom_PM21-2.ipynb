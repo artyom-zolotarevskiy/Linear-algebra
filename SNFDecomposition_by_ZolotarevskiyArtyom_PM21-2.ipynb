{
 "cells": [
  {
   "cell_type": "code",
   "execution_count": 3,
   "metadata": {},
   "outputs": [],
   "source": [
    "from sympy import *\n",
    "init_printing()"
   ]
  },
  {
   "cell_type": "code",
   "execution_count": 7,
   "metadata": {},
   "outputs": [
    {
     "data": {
      "text/latex": [
       "$\\displaystyle \\left[\\begin{matrix}1 & -1 & 1 & 2\\\\2 & -2 & 1 & -1\\\\-1 & 1 & 0 & 3\\end{matrix}\\right]$"
      ],
      "text/plain": [
       "⎡1   -1  1  2 ⎤\n",
       "⎢             ⎥\n",
       "⎢2   -2  1  -1⎥\n",
       "⎢             ⎥\n",
       "⎣-1  1   0  3 ⎦"
      ]
     },
     "execution_count": 7,
     "metadata": {},
     "output_type": "execute_result"
    }
   ],
   "source": [
    "#A = Matrix([\n",
    "#    [1,-1,2,1],\n",
    "#    [2,-1,0,3],\n",
    "#    [0,1,-4,1]\n",
    "#])\n",
    "A = Matrix([\n",
    "    [1,-1,1,2],\n",
    "    [2,-2,1,-1],\n",
    "    [-1,1,0,3]\n",
    "])\n",
    "A"
   ]
  },
  {
   "cell_type": "code",
   "execution_count": 8,
   "metadata": {},
   "outputs": [],
   "source": [
    "def snf_decomposition(A):\n",
    "    m, n = A.shape\n",
    "    A_Im = Matrix.hstack(A, eye(m))\n",
    "    U = A_Im.rref()[0][:, n:]\n",
    "    R = A.rref()[0]\n",
    "    RT_In = Matrix.hstack(R.T, eye(n))\n",
    "    VT = RT_In.rref()[0][:, m:]\n",
    "    V = VT.T\n",
    "    return U*A*V, U, V\n"
   ]
  },
  {
   "cell_type": "code",
   "execution_count": 9,
   "metadata": {},
   "outputs": [
    {
     "data": {
      "text/latex": [
       "$\\displaystyle \\left( \\left[\\begin{matrix}1 & 0 & 0 & 0\\\\0 & 1 & 0 & 0\\\\0 & 0 & 0 & 0\\end{matrix}\\right], \\  \\left[\\begin{matrix}0 & 0 & -1\\\\0 & 1 & 2\\\\1 & -1 & -1\\end{matrix}\\right], \\  \\left[\\begin{matrix}0 & 0 & 1 & 0\\\\0 & 0 & 0 & 1\\\\\\frac{5}{3} & 1 & - \\frac{5}{3} & \\frac{5}{3}\\\\- \\frac{1}{3} & 0 & \\frac{1}{3} & - \\frac{1}{3}\\end{matrix}\\right]\\right)$"
      ],
      "text/plain": [
       "⎛                           ⎡ 0    0   1     0  ⎤⎞\n",
       "⎜⎡1  0  0  0⎤  ⎡0  0   -1⎤  ⎢                   ⎥⎟\n",
       "⎜⎢          ⎥  ⎢         ⎥  ⎢ 0    0   0     1  ⎥⎟\n",
       "⎜⎢0  1  0  0⎥, ⎢0  1   2 ⎥, ⎢                   ⎥⎟\n",
       "⎜⎢          ⎥  ⎢         ⎥  ⎢5/3   1  -5/3  5/3 ⎥⎟\n",
       "⎜⎣0  0  0  0⎦  ⎣1  -1  -1⎦  ⎢                   ⎥⎟\n",
       "⎝                           ⎣-1/3  0  1/3   -1/3⎦⎠"
      ]
     },
     "execution_count": 9,
     "metadata": {},
     "output_type": "execute_result"
    }
   ],
   "source": [
    "SNF, U, V = snf_decomposition(A)\n",
    "SNF, U, V"
   ]
  },
  {
   "cell_type": "code",
   "execution_count": 10,
   "metadata": {
    "scrolled": true
   },
   "outputs": [
    {
     "data": {
      "image/png": "[encoded data removed]",
      "text/latex": [
       "$\\displaystyle \\left( 1, \\  \\frac{1}{3}\\right)$"
      ],
      "text/plain": [
       "(1, 1/3)"
      ]
     },
     "execution_count": 10,
     "metadata": {},
     "output_type": "execute_result"
    }
   ],
   "source": [
    "U.det(),V.det()"
   ]
  },
  {
   "cell_type": "code",
   "execution_count": 11,
   "metadata": {
    "scrolled": false
   },
   "outputs": [
    {
     "data": {
      "image/png": "[encoded data removed]",
      "text/latex": [
       "$\\displaystyle 2$"
      ],
      "text/plain": [
       "2"
      ]
     },
     "execution_count": 11,
     "metadata": {},
     "output_type": "execute_result"
    }
   ],
   "source": [
    "A.rank()"
   ]
  },
  {
   "cell_type": "code",
   "execution_count": null,
   "metadata": {},
   "outputs": [],
   "source": []
  }
 ],
 "metadata": {
  "kernelspec": {
   "display_name": "Python 3",
   "language": "python",
   "name": "python3"
  },
  "language_info": {
   "codemirror_mode": {
    "name": "ipython",
    "version": 3
   },
   "file_extension": ".py",
   "mimetype": "text/x-python",
   "name": "python",
   "nbconvert_exporter": "python",
   "pygments_lexer": "ipython3",
   "version": "3.9.2+"
  }
 },
 "nbformat": 4,
 "nbformat_minor": 2
}
