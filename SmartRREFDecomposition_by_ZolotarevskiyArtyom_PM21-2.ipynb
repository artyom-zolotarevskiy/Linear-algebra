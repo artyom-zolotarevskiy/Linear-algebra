{
 "cells": [
  {
   "cell_type": "code",
   "execution_count": 29,
   "metadata": {},
   "outputs": [],
   "source": [
    "from sympy import *\n",
    "init_printing()"
   ]
  },
  {
   "cell_type": "code",
   "execution_count": 30,
   "metadata": {},
   "outputs": [],
   "source": [
    "def P_op(In_size, n, m):\n",
    "    return eye(In_size).elementary_row_op('n<->m', n, m)\n",
    "\n",
    "def M_op(In_size, n, k):\n",
    "    return eye(In_size).elementary_row_op('n->kn', n, k)\n",
    "\n",
    "def A_op(In_size, n, m, k):\n",
    "    return eye(In_size).elementary_row_op('n->n+km', row1=n, row2=m, k=k)"
   ]
  },
  {
   "cell_type": "code",
   "execution_count": 31,
   "metadata": {},
   "outputs": [
    {
     "data": {
      "text/latex": [
       "$\\displaystyle \\left[\\begin{matrix}2 & 3 & 1\\\\1 & 2 & 1\\end{matrix}\\right]$"
      ],
      "text/plain": [
       "⎡2  3  1⎤\n",
       "⎢       ⎥\n",
       "⎣1  2  1⎦"
      ]
     },
     "execution_count": 31,
     "metadata": {},
     "output_type": "execute_result"
    }
   ],
   "source": [
    "#A = randMatrix(3, c=5, min=0, max=25,percent=50)\n",
    "A = Matrix([\n",
    "      [2, 3, 1],\n",
    "      [1, 2, 1],\n",
    "    ])\n",
    "A"
   ]
  },
  {
   "cell_type": "code",
   "execution_count": 32,
   "metadata": {},
   "outputs": [
    {
     "data": {
      "text/latex": [
       "$\\displaystyle \\left( \\left[\\begin{matrix}2 & 3 & 1\\\\1 & 2 & 1\\end{matrix}\\right], \\  \\left[\\begin{matrix}1 & 0 & -1\\\\0 & 1 & 1\\end{matrix}\\right], \\  \\left[\\begin{matrix}1 & 0 & -1\\\\0 & 1 & 1\\end{matrix}\\right], \\  \\left[ \\left[\\begin{matrix}\\frac{1}{2} & 0\\\\0 & 1\\end{matrix}\\right], \\  \\left[\\begin{matrix}1 & 0\\\\-1 & 1\\end{matrix}\\right], \\  \\left[\\begin{matrix}1 & 0\\\\0 & 2\\end{matrix}\\right], \\  \\left[\\begin{matrix}1 & - \\frac{3}{2}\\\\0 & 1\\end{matrix}\\right]\\right]\\right)$"
      ],
      "text/plain": [
       "⎛⎡2  3  1⎤  ⎡1  0  -1⎤  ⎡1  0  -1⎤  ⎡⎡1/2  0⎤  ⎡1   0⎤  ⎡1  0⎤  ⎡1  -3/2⎤⎤⎞\n",
       "⎜⎢       ⎥, ⎢        ⎥, ⎢        ⎥, ⎢⎢      ⎥, ⎢     ⎥, ⎢    ⎥, ⎢       ⎥⎥⎟\n",
       "⎝⎣1  2  1⎦  ⎣0  1  1 ⎦  ⎣0  1  1 ⎦  ⎣⎣ 0   1⎦  ⎣-1  1⎦  ⎣0  2⎦  ⎣0   1  ⎦⎦⎠"
      ]
     },
     "execution_count": 32,
     "metadata": {},
     "output_type": "execute_result"
    }
   ],
   "source": [
    "def smart_rref_decomposition(rref):\n",
    "    elementary_matrices = []\n",
    "    # количество нулевых строк в rref\n",
    "    null_row_count = 0\n",
    "    row = 0\n",
    "    # вычеркиваем нулевые строки\n",
    "    while row < rref.shape[0]:\n",
    "        if rref.row(row) == zeros(1, rref.shape[1]):\n",
    "            rref.row_del(row)\n",
    "        row += 1\n",
    "    # индексы ячеек главной диагонали\n",
    "    diag_i, diag_j = 0, 0\n",
    "    while diag_i < rref.shape[0] and diag_j < rref.shape[1]:\n",
    "        element_to_one = rref[diag_i, diag_j]\n",
    "        if element_to_one == 0:\n",
    "            # ищем ненулевой элемент в столбце\n",
    "            found = False\n",
    "            for row in range(diag_i + 1, rref.shape[0]):\n",
    "                # если нашли\n",
    "                if rref[row, diag_j] != 0:\n",
    "                    element_to_one = rref[row, diag_j]\n",
    "                    # перестановка\n",
    "                    op = P_op(rref.shape[0], diag_i, row)\n",
    "                    # сохраняем перестановку\n",
    "                    elementary_matrices.append(op)\n",
    "                    rref = op * rref\n",
    "                    found = True\n",
    "                    break\n",
    "            # если не нашли\n",
    "            if found == False:\n",
    "                # смещаемся вправо\n",
    "                diag_j += 1\n",
    "                continue  \n",
    "        # приводим к единице, если надо\n",
    "        if element_to_one != 1: \n",
    "            op = M_op(rref.shape[0], diag_i, 1 / element_to_one)\n",
    "            elementary_matrices.append(op)\n",
    "            rref = op * rref   \n",
    "        # приводим к нулю элементы под и над данной ячейкой\n",
    "        row = 0 \n",
    "        while row < rref.shape[0]:\n",
    "            if row != diag_i and rref[row, diag_j] != 0 and rref.row(row) != zeros(1, rref.shape[1]):\n",
    "                element_to_zero = rref[row, diag_j]\n",
    "                op = A_op(rref.shape[0], row, diag_i, -element_to_zero)\n",
    "                elementary_matrices.append(op)\n",
    "                rref = op * rref  \n",
    "                # если получили нулевую строку,\n",
    "                # то вычеркиваем ее\n",
    "                if rref.row(row) == zeros(1, rref.shape[1]):\n",
    "                    rref.row_del(row)  \n",
    "                    row -= 1\n",
    "                    if (row < diag_i):\n",
    "                        diag_i -= 1\n",
    "                    # и запоминаем, что вычеркнули\n",
    "                    null_row_count += 1\n",
    "            row += 1         \n",
    "        diag_i += 1\n",
    "        diag_j += 1            \n",
    "    # записываем обратно вычеренутые строки\n",
    "    for i in range(null_row_count):\n",
    "        rref = rref.row_insert(rref.shape[0], zeros(1, rref.shape[1]))\n",
    "    return rref, elementary_matrices\n",
    "rref, elementary_matrices = smart_rref_decomposition(A)\n",
    "A, A.rref()[0], rref, elementary_matrices"
   ]
  },
  {
   "cell_type": "code",
   "execution_count": 33,
   "metadata": {},
   "outputs": [
    {
     "data": {
      "text/latex": [
       "$\\displaystyle \\left( \\left[\\begin{matrix}2 & 3 & 1\\\\1 & 2 & 1\\end{matrix}\\right], \\  \\left[\\begin{matrix}1 & 0 & -1\\\\0 & 1 & 1\\end{matrix}\\right], \\  \\left[\\begin{matrix}1 & 0 & -1\\\\0 & 1 & 1\\end{matrix}\\right]\\right)$"
      ],
      "text/plain": [
       "⎛⎡2  3  1⎤  ⎡1  0  -1⎤  ⎡1  0  -1⎤⎞\n",
       "⎜⎢       ⎥, ⎢        ⎥, ⎢        ⎥⎟\n",
       "⎝⎣1  2  1⎦  ⎣0  1  1 ⎦  ⎣0  1  1 ⎦⎠"
      ]
     },
     "execution_count": 33,
     "metadata": {},
     "output_type": "execute_result"
    }
   ],
   "source": [
    "rref2 = A\n",
    "for e in elementary_matrices:\n",
    "    rref2 = e * rref2\n",
    "A,A.rref()[0],rref2"
   ]
  },
  {
   "cell_type": "code",
   "execution_count": 34,
   "metadata": {},
   "outputs": [
    {
     "data": {
      "text/latex": [
       "$\\displaystyle \\left[ \\left[\\begin{matrix}1 & - \\frac{3}{2}\\\\0 & 1\\end{matrix}\\right], \\  \\left[\\begin{matrix}1 & 0\\\\0 & 2\\end{matrix}\\right], \\  \\left[\\begin{matrix}1 & 0\\\\-1 & 1\\end{matrix}\\right], \\  \\left[\\begin{matrix}\\frac{1}{2} & 0\\\\0 & 1\\end{matrix}\\right]\\right]$"
      ],
      "text/plain": [
       "⎡⎡1  -3/2⎤  ⎡1  0⎤  ⎡1   0⎤  ⎡1/2  0⎤⎤\n",
       "⎢⎢       ⎥, ⎢    ⎥, ⎢     ⎥, ⎢      ⎥⎥\n",
       "⎣⎣0   1  ⎦  ⎣0  2⎦  ⎣-1  1⎦  ⎣ 0   1⎦⎦"
      ]
     },
     "execution_count": 34,
     "metadata": {},
     "output_type": "execute_result"
    }
   ],
   "source": [
    "elementary_matrices_reversed = list(reversed(elementary_matrices))\n",
    "elementary_matrices_reversed"
   ]
  },
  {
   "cell_type": "code",
   "execution_count": 35,
   "metadata": {},
   "outputs": [
    {
     "data": {
      "text/latex": [
       "$\\displaystyle \\left[ \\left[\\begin{matrix}1 & \\frac{3}{2}\\\\0 & 1\\end{matrix}\\right], \\  \\left[\\begin{matrix}1 & 0\\\\0 & \\frac{1}{2}\\end{matrix}\\right], \\  \\left[\\begin{matrix}1 & 0\\\\1 & 1\\end{matrix}\\right], \\  \\left[\\begin{matrix}2 & 0\\\\0 & 1\\end{matrix}\\right]\\right]$"
      ],
      "text/plain": [
       "⎡⎡1  3/2⎤  ⎡1   0 ⎤  ⎡1  0⎤  ⎡2  0⎤⎤\n",
       "⎢⎢      ⎥, ⎢      ⎥, ⎢    ⎥, ⎢    ⎥⎥\n",
       "⎣⎣0   1 ⎦  ⎣0  1/2⎦  ⎣1  1⎦  ⎣0  1⎦⎦"
      ]
     },
     "execution_count": 35,
     "metadata": {},
     "output_type": "execute_result"
    }
   ],
   "source": [
    "elementary_matrices_reversed_inv = [i.inv() for i in elementary_matrices_reversed]\n",
    "elementary_matrices_reversed_inv"
   ]
  },
  {
   "cell_type": "code",
   "execution_count": 36,
   "metadata": {},
   "outputs": [
    {
     "data": {
      "text/latex": [
       "$\\displaystyle \\left( \\left[\\begin{matrix}2 & 3 & 1\\\\1 & 2 & 1\\end{matrix}\\right], \\  \\left[\\begin{matrix}2 & 3 & 1\\\\1 & 2 & 1\\end{matrix}\\right]\\right)$"
      ],
      "text/plain": [
       "⎛⎡2  3  1⎤  ⎡2  3  1⎤⎞\n",
       "⎜⎢       ⎥, ⎢       ⎥⎟\n",
       "⎝⎣1  2  1⎦  ⎣1  2  1⎦⎠"
      ]
     },
     "execution_count": 36,
     "metadata": {},
     "output_type": "execute_result"
    }
   ],
   "source": [
    "A2 = A.rref()[0]\n",
    "for e_inv in elementary_matrices_reversed_inv:\n",
    "    A2 = e_inv * A2\n",
    "A,A2"
   ]
  },
  {
   "cell_type": "code",
   "execution_count": 37,
   "metadata": {},
   "outputs": [
    {
     "name": "stdout",
     "output_type": "stream",
     "text": [
      "Successful tests: 1000\n"
     ]
    }
   ],
   "source": [
    "n = 0\n",
    "# проверка алгоритма приведения rref на 1000 случайных матриц\n",
    "for i in range(1000):\n",
    "    A = randMatrix(4, c=7, min=-30, max=15,percent=50)\n",
    "    rref, elementary_matrices = smart_rref_decomposition(A)\n",
    "    # счетчик успешных тестов\n",
    "    if A.rref()[0] == rref:\n",
    "        n += 1\n",
    "    else:\n",
    "        print(\"Test failed\")\n",
    "        break\n",
    "print(\"Successful tests:\", n)"
   ]
  },
  {
   "cell_type": "code",
   "execution_count": null,
   "metadata": {},
   "outputs": [],
   "source": []
  }
 ],
 "metadata": {
  "kernelspec": {
   "display_name": "Python 3",
   "language": "python",
   "name": "python3"
  },
  "language_info": {
   "codemirror_mode": {
    "name": "ipython",
    "version": 3
   },
   "file_extension": ".py",
   "mimetype": "text/x-python",
   "name": "python",
   "nbconvert_exporter": "python",
   "pygments_lexer": "ipython3",
   "version": "3.9.2+"
  }
 },
 "nbformat": 4,
 "nbformat_minor": 4
}
