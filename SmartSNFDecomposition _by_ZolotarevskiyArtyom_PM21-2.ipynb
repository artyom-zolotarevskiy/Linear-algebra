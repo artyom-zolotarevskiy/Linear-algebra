{
 "cells": [
  {
   "cell_type": "code",
   "execution_count": 2,
   "metadata": {},
   "outputs": [],
   "source": [
    "from sympy import *\n",
    "init_printing()"
   ]
  },
  {
   "cell_type": "code",
   "execution_count": 3,
   "metadata": {},
   "outputs": [],
   "source": [
    "def P_op(In_size, n, m):\n",
    "    return eye(In_size).elementary_row_op('n<->m', n, m)\n",
    "\n",
    "def M_op(In_size, n, k):\n",
    "    return eye(In_size).elementary_row_op('n->kn', n, k)\n",
    "\n",
    "def A_op(In_size, n, m, k):\n",
    "    return eye(In_size).elementary_row_op('n->n+km', row1=n, row2=m, k=k)"
   ]
  },
  {
   "cell_type": "code",
   "execution_count": 4,
   "metadata": {},
   "outputs": [],
   "source": [
    "def smart_rref_decomposition(rref):\n",
    "    elementary_matrices = []\n",
    "    # количество нулевых строк в rref\n",
    "    null_row_count = 0\n",
    "    row = 0\n",
    "    # вычеркиваем нулевые строки\n",
    "    while row < rref.shape[0]:\n",
    "        if rref.row(row) == zeros(1, rref.shape[1]):\n",
    "            rref.row_del(row)\n",
    "        row += 1\n",
    "    # индексы ячеек главной диагонали\n",
    "    diag_i, diag_j = 0, 0\n",
    "    while diag_i < rref.shape[0] and diag_j < rref.shape[1]:\n",
    "        element_to_one = rref[diag_i, diag_j]\n",
    "        if element_to_one == 0:\n",
    "            # ищем ненулевой элемент в столбце\n",
    "            found = False\n",
    "            for row in range(diag_i + 1, rref.shape[0]):\n",
    "                # если нашли\n",
    "                if rref[row, diag_j] != 0:\n",
    "                    element_to_one = rref[row, diag_j]\n",
    "                    # перестановка\n",
    "                    op = P_op(rref.shape[0], diag_i, row)\n",
    "                    # сохраняем перестановку\n",
    "                    elementary_matrices.append(op)\n",
    "                    rref = op * rref\n",
    "                    found = True\n",
    "                    break\n",
    "            # если не нашли\n",
    "            if found == False:\n",
    "                # смещаемся вправо\n",
    "                diag_j += 1\n",
    "                continue  \n",
    "        # приводим к единице, если надо\n",
    "        if element_to_one != 1: \n",
    "            op = M_op(rref.shape[0], diag_i, 1 / element_to_one)\n",
    "            elementary_matrices.append(op)\n",
    "            rref = op * rref   \n",
    "        # приводим к нулю элементы под и над данной ячейкой\n",
    "        row = 0 \n",
    "        while row < rref.shape[0]:\n",
    "            if row != diag_i and rref[row, diag_j] != 0 and rref.row(row) != zeros(1, rref.shape[1]):\n",
    "                element_to_zero = rref[row, diag_j]\n",
    "                op = A_op(rref.shape[0], row, diag_i, -element_to_zero)\n",
    "                elementary_matrices.append(op)\n",
    "                rref = op * rref  \n",
    "                # если получили нулевую строку,\n",
    "                # то вычеркиваем ее\n",
    "                if rref.row(row) == zeros(1, rref.shape[1]):\n",
    "                    rref.row_del(row)  \n",
    "                    row -= 1\n",
    "                    if (row < diag_i):\n",
    "                        diag_i -= 1\n",
    "                    # и запоминаем, что вычеркнули\n",
    "                    null_row_count += 1\n",
    "            row += 1         \n",
    "        diag_i += 1\n",
    "        diag_j += 1            \n",
    "    # записываем обратно вычеркнутые строки\n",
    "    for i in range(null_row_count):\n",
    "        rref = rref.row_insert(rref.shape[0], zeros(1, rref.shape[1]))\n",
    "    return rref, elementary_matrices"
   ]
  },
  {
   "cell_type": "code",
   "execution_count": 5,
   "metadata": {},
   "outputs": [],
   "source": [
    "# разложение невырожденных матриц на произведение элементарных\n",
    "def nondegenerate_decomposition(A):\n",
    "    rref, elementary_matrices = smart_rref_decomposition(A)\n",
    "    elementary_matrices.append(rref)\n",
    "    elementary_matrices_reversed = list(reversed(elementary_matrices))\n",
    "    elementary_matrices_reversed_inv = [i.inv() for i in elementary_matrices_reversed]\n",
    "    return elementary_matrices_reversed_inv"
   ]
  },
  {
   "cell_type": "code",
   "execution_count": 6,
   "metadata": {},
   "outputs": [],
   "source": [
    "def smart_snf_decomposition(A):\n",
    "    m, n = A.shape\n",
    "    A_Im = Matrix.hstack(A, eye(m))\n",
    "    U = A_Im.rref()[0][:, n:]\n",
    "    R = A.rref()[0]\n",
    "    RT_In = Matrix.hstack(R.T, eye(n))\n",
    "    VT = RT_In.rref()[0][:, m:]\n",
    "    V = VT.T\n",
    "    return U*A*V, nondegenerate_decomposition(U), nondegenerate_decomposition(V)\n"
   ]
  },
  {
   "cell_type": "code",
   "execution_count": 9,
   "metadata": {
    "scrolled": true
   },
   "outputs": [
    {
     "data": {
      "text/latex": [
       "$\\displaystyle \\left( \\left[\\begin{matrix}1 & 0 & 0 & 0\\\\0 & 1 & 0 & 0\\\\0 & 0 & 0 & 0\\end{matrix}\\right], \\  \\left[ \\left[\\begin{matrix}1 & 0 & 0\\\\0 & 1 & 0\\\\0 & 0 & 1\\end{matrix}\\right], \\  \\left[\\begin{matrix}1 & 0 & 0\\\\0 & 1 & 2\\\\0 & 0 & 1\\end{matrix}\\right], \\  \\left[\\begin{matrix}1 & 0 & 1\\\\0 & 1 & 0\\\\0 & 0 & 1\\end{matrix}\\right], \\  \\left[\\begin{matrix}1 & 0 & 0\\\\0 & 1 & 0\\\\0 & 0 & -1\\end{matrix}\\right], \\  \\left[\\begin{matrix}1 & -1 & 0\\\\0 & 1 & 0\\\\0 & 0 & 1\\end{matrix}\\right], \\  \\left[\\begin{matrix}0 & 0 & 1\\\\0 & 1 & 0\\\\1 & 0 & 0\\end{matrix}\\right]\\right], \\  \\left[ \\left[\\begin{matrix}1 & 0 & 0 & 0\\\\0 & 1 & 0 & 0\\\\0 & 0 & 1 & 0\\\\0 & 0 & 0 & 1\\end{matrix}\\right], \\  \\left[\\begin{matrix}1 & 0 & 0 & 1\\\\0 & 1 & 0 & 0\\\\0 & 0 & 1 & 0\\\\0 & 0 & 0 & 1\\end{matrix}\\right], \\  \\left[\\begin{matrix}1 & 0 & -1 & 0\\\\0 & 1 & 0 & 0\\\\0 & 0 & 1 & 0\\\\0 & 0 & 0 & 1\\end{matrix}\\right], \\  \\left[\\begin{matrix}1 & \\frac{3}{5} & 0 & 0\\\\0 & 1 & 0 & 0\\\\0 & 0 & 1 & 0\\\\0 & 0 & 0 & 1\\end{matrix}\\right], \\  \\left[\\begin{matrix}1 & 0 & 0 & 0\\\\0 & \\frac{1}{5} & 0 & 0\\\\0 & 0 & 1 & 0\\\\0 & 0 & 0 & 1\\end{matrix}\\right], \\  \\left[\\begin{matrix}1 & 0 & 0 & 0\\\\0 & 0 & 0 & 1\\\\0 & 0 & 1 & 0\\\\0 & 1 & 0 & 0\\end{matrix}\\right], \\  \\left[\\begin{matrix}1 & 0 & 0 & 0\\\\0 & 1 & 0 & 0\\\\0 & 0 & 1 & 0\\\\- \\frac{1}{3} & 0 & 0 & 1\\end{matrix}\\right], \\  \\left[\\begin{matrix}\\frac{5}{3} & 0 & 0 & 0\\\\0 & 1 & 0 & 0\\\\0 & 0 & 1 & 0\\\\0 & 0 & 0 & 1\\end{matrix}\\right], \\  \\left[\\begin{matrix}0 & 0 & 1 & 0\\\\0 & 1 & 0 & 0\\\\1 & 0 & 0 & 0\\\\0 & 0 & 0 & 1\\end{matrix}\\right]\\right]\\right)$"
      ],
      "text/plain": [
       "⎛                                                                             \n",
       "⎜⎡1  0  0  0⎤  ⎡⎡1  0  0⎤  ⎡1  0  0⎤  ⎡1  0  1⎤  ⎡1  0  0 ⎤  ⎡1  -1  0⎤  ⎡0  0\n",
       "⎜⎢          ⎥  ⎢⎢       ⎥  ⎢       ⎥  ⎢       ⎥  ⎢        ⎥  ⎢        ⎥  ⎢    \n",
       "⎜⎢0  1  0  0⎥, ⎢⎢0  1  0⎥, ⎢0  1  2⎥, ⎢0  1  0⎥, ⎢0  1  0 ⎥, ⎢0  1   0⎥, ⎢0  1\n",
       "⎜⎢          ⎥  ⎢⎢       ⎥  ⎢       ⎥  ⎢       ⎥  ⎢        ⎥  ⎢        ⎥  ⎢    \n",
       "⎜⎣0  0  0  0⎦  ⎣⎣0  0  1⎦  ⎣0  0  1⎦  ⎣0  0  1⎦  ⎣0  0  -1⎦  ⎣0  0   1⎦  ⎣1  0\n",
       "⎝                                                                             \n",
       "\n",
       "       ⎡⎡1  0  0  0⎤  ⎡1  0  0  1⎤  ⎡1  0  -1  0⎤  ⎡1  3/5  0  0⎤  ⎡1   0   0 \n",
       "  1⎤⎤  ⎢⎢          ⎥  ⎢          ⎥  ⎢           ⎥  ⎢            ⎥  ⎢          \n",
       "   ⎥⎥  ⎢⎢0  1  0  0⎥  ⎢0  1  0  0⎥  ⎢0  1  0   0⎥  ⎢0   1   0  0⎥  ⎢0  1/5  0 \n",
       "  0⎥⎥, ⎢⎢          ⎥, ⎢          ⎥, ⎢           ⎥, ⎢            ⎥, ⎢          \n",
       "   ⎥⎥  ⎢⎢0  0  1  0⎥  ⎢0  0  1  0⎥  ⎢0  0  1   0⎥  ⎢0   0   1  0⎥  ⎢0   0   1 \n",
       "  0⎦⎦  ⎢⎢          ⎥  ⎢          ⎥  ⎢           ⎥  ⎢            ⎥  ⎢          \n",
       "       ⎣⎣0  0  0  1⎦  ⎣0  0  0  1⎦  ⎣0  0  0   1⎦  ⎣0   0   0  1⎦  ⎣0   0   0 \n",
       "\n",
       " 0⎤  ⎡1  0  0  0⎤  ⎡ 1    0  0  0⎤  ⎡5/3  0  0  0⎤  ⎡0  0  1  0⎤⎤⎞\n",
       "  ⎥  ⎢          ⎥  ⎢             ⎥  ⎢            ⎥  ⎢          ⎥⎥⎟\n",
       " 0⎥  ⎢0  0  0  1⎥  ⎢ 0    1  0  0⎥  ⎢ 0   1  0  0⎥  ⎢0  1  0  0⎥⎥⎟\n",
       "  ⎥, ⎢          ⎥, ⎢             ⎥, ⎢            ⎥, ⎢          ⎥⎥⎟\n",
       " 0⎥  ⎢0  0  1  0⎥  ⎢ 0    0  1  0⎥  ⎢ 0   0  1  0⎥  ⎢1  0  0  0⎥⎥⎟\n",
       "  ⎥  ⎢          ⎥  ⎢             ⎥  ⎢            ⎥  ⎢          ⎥⎥⎟\n",
       " 1⎦  ⎣0  1  0  0⎦  ⎣-1/3  0  0  1⎦  ⎣ 0   0  0  1⎦  ⎣0  0  0  1⎦⎦⎠"
      ]
     },
     "execution_count": 9,
     "metadata": {},
     "output_type": "execute_result"
    }
   ],
   "source": [
    "A = Matrix([\n",
    "    [1,-1,1,2],\n",
    "    [2,-2,1,-1],\n",
    "    [-1,1,0,3]\n",
    "])\n",
    "SNF, U_decomposition, V_decomposition = smart_snf_decomposition(A)\n",
    "SNF, U_decomposition, V_decomposition"
   ]
  },
  {
   "cell_type": "code",
   "execution_count": 10,
   "metadata": {},
   "outputs": [
    {
     "data": {
      "text/latex": [
       "$\\displaystyle \\left( \\left[\\begin{matrix}0 & 0 & -1\\\\0 & 1 & 2\\\\1 & -1 & -1\\end{matrix}\\right], \\  \\left[\\begin{matrix}0 & 0 & 1 & 0\\\\0 & 0 & 0 & 1\\\\\\frac{5}{3} & 1 & - \\frac{5}{3} & \\frac{5}{3}\\\\- \\frac{1}{3} & 0 & \\frac{1}{3} & - \\frac{1}{3}\\end{matrix}\\right], \\  \\left[\\begin{matrix}1 & 0 & 0 & 0\\\\0 & 1 & 0 & 0\\\\0 & 0 & 0 & 0\\end{matrix}\\right], \\  \\left[\\begin{matrix}1 & 0 & 0 & 0\\\\0 & 1 & 0 & 0\\\\0 & 0 & 0 & 0\\end{matrix}\\right]\\right)$"
      ],
      "text/plain": [
       "⎛             ⎡ 0    0   1     0  ⎤                            ⎞\n",
       "⎜⎡0  0   -1⎤  ⎢                   ⎥  ⎡1  0  0  0⎤  ⎡1  0  0  0⎤⎟\n",
       "⎜⎢         ⎥  ⎢ 0    0   0     1  ⎥  ⎢          ⎥  ⎢          ⎥⎟\n",
       "⎜⎢0  1   2 ⎥, ⎢                   ⎥, ⎢0  1  0  0⎥, ⎢0  1  0  0⎥⎟\n",
       "⎜⎢         ⎥  ⎢5/3   1  -5/3  5/3 ⎥  ⎢          ⎥  ⎢          ⎥⎟\n",
       "⎜⎣1  -1  -1⎦  ⎢                   ⎥  ⎣0  0  0  0⎦  ⎣0  0  0  0⎦⎟\n",
       "⎝             ⎣-1/3  0  1/3   -1/3⎦                            ⎠"
      ]
     },
     "execution_count": 10,
     "metadata": {},
     "output_type": "execute_result"
    }
   ],
   "source": [
    "U = 1\n",
    "for e_inv in U_decomposition:\n",
    "    U = e_inv * U\n",
    "V = 1\n",
    "for e_inv in V_decomposition:\n",
    "    V = e_inv * V\n",
    "U, V, SNF, U*A*V"
   ]
  }
 ],
 "metadata": {
  "kernelspec": {
   "display_name": "Python 3",
   "language": "python",
   "name": "python3"
  },
  "language_info": {
   "codemirror_mode": {
    "name": "ipython",
    "version": 3
   },
   "file_extension": ".py",
   "mimetype": "text/x-python",
   "name": "python",
   "nbconvert_exporter": "python",
   "pygments_lexer": "ipython3",
   "version": "3.9.2+"
  }
 },
 "nbformat": 4,
 "nbformat_minor": 2
}
