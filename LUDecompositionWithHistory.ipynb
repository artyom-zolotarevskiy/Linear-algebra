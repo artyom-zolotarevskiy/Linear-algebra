{
 "cells": [
  {
   "cell_type": "code",
   "execution_count": 121,
   "metadata": {},
   "outputs": [],
   "source": [
    "import numpy as np\n",
    "\n",
    "from sympy import *\n",
    "from fractions import Fraction\n",
    "\n",
    "init_printing()"
   ]
  },
  {
   "cell_type": "code",
   "execution_count": 122,
   "metadata": {},
   "outputs": [],
   "source": [
    "def P_op(n, m):\n",
    "    return eye(In_size).elementary_row_op('n<->m', n, m)\n",
    "\n",
    "def M_op(n, k):\n",
    "    return eye(In_size).elementary_row_op('n->kn', n, k)\n",
    "\n",
    "def A_op(n, m, k):\n",
    "    return eye(In_size).elementary_row_op('n->n+km', row1=n, row2=m, k=k)"
   ]
  },
  {
   "cell_type": "code",
   "execution_count": 128,
   "metadata": {},
   "outputs": [
    {
     "data": {
      "text/latex": [
       "$\\displaystyle \\left( \\left[\\begin{matrix}6 & -2 & -4 & 4\\\\3 & -3 & -6 & 1\\\\-12 & 8 & 21 & -8\\\\-6 & 0 & -10 & 7\\end{matrix}\\right], \\  4\\right)$"
      ],
      "text/plain": [
       "⎛⎡ 6   -2  -4   4 ⎤   ⎞\n",
       "⎜⎢                ⎥   ⎟\n",
       "⎜⎢ 3   -3  -6   1 ⎥   ⎟\n",
       "⎜⎢                ⎥, 4⎟\n",
       "⎜⎢-12  8   21   -8⎥   ⎟\n",
       "⎜⎢                ⎥   ⎟\n",
       "⎝⎣-6   0   -10  7 ⎦   ⎠"
      ]
     },
     "execution_count": 128,
     "metadata": {},
     "output_type": "execute_result"
    }
   ],
   "source": [
    "#A = randMatrix(3, min=0, max=15,percent=50)\n",
    "A = Matrix([\n",
    "     [6,-2,-4,4],\n",
    "     [3,-3,-6,1],\n",
    "     [-12,8,21,-8],\n",
    "     [-6,0,-10,7]\n",
    "    ])\n",
    "\n",
    "In_size = max(A.shape) # размер единичной матрицы для матрицы A\n",
    "\n",
    "A, In_size"
   ]
  },
  {
   "cell_type": "code",
   "execution_count": 129,
   "metadata": {},
   "outputs": [
    {
     "data": {
      "text/latex": [
       "$\\displaystyle \\left( \\left[\\begin{matrix}6 & -2 & -4 & 4\\\\3 & -3 & -6 & 1\\\\-12 & 8 & 21 & -8\\\\-6 & 0 & -10 & 7\\end{matrix}\\right], \\  \\left[ \\left[\\begin{matrix}\\frac{1}{6} & 0 & 0 & 0\\\\0 & 1 & 0 & 0\\\\0 & 0 & 1 & 0\\\\0 & 0 & 0 & 1\\end{matrix}\\right], \\  \\left[\\begin{matrix}1 & 0 & 0 & 0\\\\-3 & 1 & 0 & 0\\\\0 & 0 & 1 & 0\\\\0 & 0 & 0 & 1\\end{matrix}\\right], \\  \\left[\\begin{matrix}1 & 0 & 0 & 0\\\\0 & 1 & 0 & 0\\\\12 & 0 & 1 & 0\\\\0 & 0 & 0 & 1\\end{matrix}\\right], \\  \\left[\\begin{matrix}1 & 0 & 0 & 0\\\\0 & 1 & 0 & 0\\\\0 & 0 & 1 & 0\\\\6 & 0 & 0 & 1\\end{matrix}\\right], \\  \\left[\\begin{matrix}1 & 0 & 0 & 0\\\\0 & - \\frac{1}{2} & 0 & 0\\\\0 & 0 & 1 & 0\\\\0 & 0 & 0 & 1\\end{matrix}\\right], \\  \\left[\\begin{matrix}1 & \\frac{1}{3} & 0 & 0\\\\0 & 1 & 0 & 0\\\\0 & 0 & 1 & 0\\\\0 & 0 & 0 & 1\\end{matrix}\\right], \\  \\left[\\begin{matrix}1 & 0 & 0 & 0\\\\0 & 1 & 0 & 0\\\\0 & -4 & 1 & 0\\\\0 & 0 & 0 & 1\\end{matrix}\\right], \\  \\left[\\begin{matrix}1 & 0 & 0 & 0\\\\0 & 1 & 0 & 0\\\\0 & 0 & 1 & 0\\\\0 & 2 & 0 & 1\\end{matrix}\\right], \\  \\left[\\begin{matrix}1 & 0 & 0 & 0\\\\0 & 1 & 0 & 0\\\\0 & 0 & \\frac{1}{5} & 0\\\\0 & 0 & 0 & 1\\end{matrix}\\right], \\  \\left[\\begin{matrix}1 & 0 & 0 & 0\\\\0 & 1 & -2 & 0\\\\0 & 0 & 1 & 0\\\\0 & 0 & 0 & 1\\end{matrix}\\right], \\  \\left[\\begin{matrix}1 & 0 & 0 & 0\\\\0 & 1 & 0 & 0\\\\0 & 0 & 1 & 0\\\\0 & 0 & 10 & 1\\end{matrix}\\right], \\  \\left[\\begin{matrix}1 & 0 & 0 & 0\\\\0 & 1 & 0 & 0\\\\0 & 0 & 1 & 0\\\\0 & 0 & 0 & \\frac{1}{8}\\end{matrix}\\right], \\  \\left[\\begin{matrix}1 & 0 & 0 & - \\frac{5}{6}\\\\0 & 1 & 0 & 0\\\\0 & 0 & 1 & 0\\\\0 & 0 & 0 & 1\\end{matrix}\\right], \\  \\left[\\begin{matrix}1 & 0 & 0 & 0\\\\0 & 1 & 0 & - \\frac{13}{10}\\\\0 & 0 & 1 & 0\\\\0 & 0 & 0 & 1\\end{matrix}\\right], \\  \\left[\\begin{matrix}1 & 0 & 0 & 0\\\\0 & 1 & 0 & 0\\\\0 & 0 & 1 & \\frac{2}{5}\\\\0 & 0 & 0 & 1\\end{matrix}\\right]\\right]\\right)$"
      ],
      "text/plain": [
       "⎛                    ⎡                                                        \n",
       "⎜⎡ 6   -2  -4   4 ⎤  ⎢⎡1/6  0  0  0⎤  ⎡1   0  0  0⎤  ⎡1   0  0  0⎤  ⎡1  0  0  \n",
       "⎜⎢                ⎥  ⎢⎢            ⎥  ⎢           ⎥  ⎢           ⎥  ⎢         \n",
       "⎜⎢ 3   -3  -6   1 ⎥  ⎢⎢ 0   1  0  0⎥  ⎢-3  1  0  0⎥  ⎢0   1  0  0⎥  ⎢0  1  0  \n",
       "⎜⎢                ⎥, ⎢⎢            ⎥, ⎢           ⎥, ⎢           ⎥, ⎢         \n",
       "⎜⎢-12  8   21   -8⎥  ⎢⎢ 0   0  1  0⎥  ⎢0   0  1  0⎥  ⎢12  0  1  0⎥  ⎢0  0  1  \n",
       "⎜⎢                ⎥  ⎢⎢            ⎥  ⎢           ⎥  ⎢           ⎥  ⎢         \n",
       "⎜⎣-6   0   -10  7 ⎦  ⎢⎣ 0   0  0  1⎦  ⎣0   0  0  1⎦  ⎣0   0  0  1⎦  ⎣6  0  0  \n",
       "⎝                    ⎣                                                        \n",
       "\n",
       "                                                                              \n",
       "0⎤  ⎡1   0    0  0⎤  ⎡1  1/3  0  0⎤  ⎡1  0   0  0⎤  ⎡1  0  0  0⎤  ⎡1  0   0   \n",
       " ⎥  ⎢             ⎥  ⎢            ⎥  ⎢           ⎥  ⎢          ⎥  ⎢           \n",
       "0⎥  ⎢0  -1/2  0  0⎥  ⎢0   1   0  0⎥  ⎢0  1   0  0⎥  ⎢0  1  0  0⎥  ⎢0  1   0   \n",
       " ⎥, ⎢             ⎥, ⎢            ⎥, ⎢           ⎥, ⎢          ⎥, ⎢           \n",
       "0⎥  ⎢0   0    1  0⎥  ⎢0   0   1  0⎥  ⎢0  -4  1  0⎥  ⎢0  0  1  0⎥  ⎢0  0  1/5  \n",
       " ⎥  ⎢             ⎥  ⎢            ⎥  ⎢           ⎥  ⎢          ⎥  ⎢           \n",
       "1⎦  ⎣0   0    0  1⎦  ⎣0   0   0  1⎦  ⎣0  0   0  1⎦  ⎣0  2  0  1⎦  ⎣0  0   0   \n",
       "                                                                              \n",
       "\n",
       "                                                                   ⎡1  0  0   \n",
       "0⎤  ⎡1  0  0   0⎤  ⎡1  0  0   0⎤  ⎡1  0  0   0 ⎤  ⎡1  0  0  -5/6⎤  ⎢          \n",
       " ⎥  ⎢           ⎥  ⎢           ⎥  ⎢            ⎥  ⎢             ⎥  ⎢         -\n",
       "0⎥  ⎢0  1  -2  0⎥  ⎢0  1  0   0⎥  ⎢0  1  0   0 ⎥  ⎢0  1  0   0  ⎥  ⎢0  1  0  ─\n",
       " ⎥, ⎢           ⎥, ⎢           ⎥, ⎢            ⎥, ⎢             ⎥, ⎢          \n",
       "0⎥  ⎢0  0  1   0⎥  ⎢0  0  1   0⎥  ⎢0  0  1   0 ⎥  ⎢0  0  1   0  ⎥  ⎢          \n",
       " ⎥  ⎢           ⎥  ⎢           ⎥  ⎢            ⎥  ⎢             ⎥  ⎢0  0  1   \n",
       "1⎦  ⎣0  0  0   1⎦  ⎣0  0  10  1⎦  ⎣0  0  0  1/8⎦  ⎣0  0  0   1  ⎦  ⎢          \n",
       "                                                                   ⎣0  0  0   \n",
       "\n",
       "0  ⎤                ⎤⎞\n",
       "   ⎥  ⎡1  0  0   0 ⎤⎥⎟\n",
       "13 ⎥  ⎢            ⎥⎥⎟\n",
       "───⎥  ⎢0  1  0   0 ⎥⎥⎟\n",
       "10 ⎥, ⎢            ⎥⎥⎟\n",
       "   ⎥  ⎢0  0  1  2/5⎥⎥⎟\n",
       "0  ⎥  ⎢            ⎥⎥⎟\n",
       "   ⎥  ⎣0  0  0   1 ⎦⎥⎟\n",
       "1  ⎦                ⎦⎠"
      ]
     },
     "execution_count": 129,
     "metadata": {},
     "output_type": "execute_result"
    }
   ],
   "source": [
    "def rref_history(A):\n",
    "    history = []\n",
    "    new_A = A\n",
    "    for col in range(new_A.shape[1]):\n",
    "        element_to_one = new_A[col, col]\n",
    "        if element_to_one == 0:\n",
    "            # ищем ненулевой элемент в столбце\n",
    "            for row in range(new_A.shape[0]):\n",
    "                # если нашли\n",
    "                if new_A[row, col] != 0:\n",
    "                    element_to_one = new_A[row, col]\n",
    "                    # сохраняем перестановку\n",
    "                    op = P_op(col, row)\n",
    "                    history.append(op)\n",
    "                    new_A = op * new_A\n",
    "                    break\n",
    "        #  если не нашли, значит в столбце все нули и можем идти дальше\n",
    "        if element_to_one == 0:\n",
    "            continue\n",
    "        # приводим к единице\n",
    "        op = M_op(col, 1 / element_to_one)\n",
    "        history.append(op)\n",
    "        new_A = op * new_A\n",
    "        \n",
    "        for row in range(new_A.shape[0]):\n",
    "            if row != col and new_A[row, col] != 0:\n",
    "                element_to_zero = new_A[row, col]\n",
    "                op = A_op(row, col, -element_to_zero)\n",
    "                history.append(op)\n",
    "                new_A = op * new_A\n",
    "\n",
    "    return history\n",
    "history = rref_history(A)\n",
    "A, rref_history(A)"
   ]
  },
  {
   "cell_type": "code",
   "execution_count": 130,
   "metadata": {},
   "outputs": [
    {
     "data": {
      "text/latex": [
       "$\\displaystyle \\left[ \\left[\\begin{matrix}1 & 0 & 0 & 0\\\\0 & 1 & 0 & 0\\\\0 & 0 & 1 & \\frac{2}{5}\\\\0 & 0 & 0 & 1\\end{matrix}\\right], \\  \\left[\\begin{matrix}1 & 0 & 0 & 0\\\\0 & 1 & 0 & - \\frac{13}{10}\\\\0 & 0 & 1 & 0\\\\0 & 0 & 0 & 1\\end{matrix}\\right], \\  \\left[\\begin{matrix}1 & 0 & 0 & - \\frac{5}{6}\\\\0 & 1 & 0 & 0\\\\0 & 0 & 1 & 0\\\\0 & 0 & 0 & 1\\end{matrix}\\right], \\  \\left[\\begin{matrix}1 & 0 & 0 & 0\\\\0 & 1 & 0 & 0\\\\0 & 0 & 1 & 0\\\\0 & 0 & 0 & \\frac{1}{8}\\end{matrix}\\right], \\  \\left[\\begin{matrix}1 & 0 & 0 & 0\\\\0 & 1 & 0 & 0\\\\0 & 0 & 1 & 0\\\\0 & 0 & 10 & 1\\end{matrix}\\right], \\  \\left[\\begin{matrix}1 & 0 & 0 & 0\\\\0 & 1 & -2 & 0\\\\0 & 0 & 1 & 0\\\\0 & 0 & 0 & 1\\end{matrix}\\right], \\  \\left[\\begin{matrix}1 & 0 & 0 & 0\\\\0 & 1 & 0 & 0\\\\0 & 0 & \\frac{1}{5} & 0\\\\0 & 0 & 0 & 1\\end{matrix}\\right], \\  \\left[\\begin{matrix}1 & 0 & 0 & 0\\\\0 & 1 & 0 & 0\\\\0 & 0 & 1 & 0\\\\0 & 2 & 0 & 1\\end{matrix}\\right], \\  \\left[\\begin{matrix}1 & 0 & 0 & 0\\\\0 & 1 & 0 & 0\\\\0 & -4 & 1 & 0\\\\0 & 0 & 0 & 1\\end{matrix}\\right], \\  \\left[\\begin{matrix}1 & \\frac{1}{3} & 0 & 0\\\\0 & 1 & 0 & 0\\\\0 & 0 & 1 & 0\\\\0 & 0 & 0 & 1\\end{matrix}\\right], \\  \\left[\\begin{matrix}1 & 0 & 0 & 0\\\\0 & - \\frac{1}{2} & 0 & 0\\\\0 & 0 & 1 & 0\\\\0 & 0 & 0 & 1\\end{matrix}\\right], \\  \\left[\\begin{matrix}1 & 0 & 0 & 0\\\\0 & 1 & 0 & 0\\\\0 & 0 & 1 & 0\\\\6 & 0 & 0 & 1\\end{matrix}\\right], \\  \\left[\\begin{matrix}1 & 0 & 0 & 0\\\\0 & 1 & 0 & 0\\\\12 & 0 & 1 & 0\\\\0 & 0 & 0 & 1\\end{matrix}\\right], \\  \\left[\\begin{matrix}1 & 0 & 0 & 0\\\\-3 & 1 & 0 & 0\\\\0 & 0 & 1 & 0\\\\0 & 0 & 0 & 1\\end{matrix}\\right], \\  \\left[\\begin{matrix}\\frac{1}{6} & 0 & 0 & 0\\\\0 & 1 & 0 & 0\\\\0 & 0 & 1 & 0\\\\0 & 0 & 0 & 1\\end{matrix}\\right]\\right]$"
      ],
      "text/plain": [
       "⎡                ⎡1  0  0   0  ⎤                                              \n",
       "⎢⎡1  0  0   0 ⎤  ⎢             ⎥  ⎡1  0  0  -5/6⎤  ⎡1  0  0   0 ⎤  ⎡1  0  0   \n",
       "⎢⎢            ⎥  ⎢         -13 ⎥  ⎢             ⎥  ⎢            ⎥  ⎢          \n",
       "⎢⎢0  1  0   0 ⎥  ⎢0  1  0  ────⎥  ⎢0  1  0   0  ⎥  ⎢0  1  0   0 ⎥  ⎢0  1  0   \n",
       "⎢⎢            ⎥, ⎢          10 ⎥, ⎢             ⎥, ⎢            ⎥, ⎢          \n",
       "⎢⎢0  0  1  2/5⎥  ⎢             ⎥  ⎢0  0  1   0  ⎥  ⎢0  0  1   0 ⎥  ⎢0  0  1   \n",
       "⎢⎢            ⎥  ⎢0  0  1   0  ⎥  ⎢             ⎥  ⎢            ⎥  ⎢          \n",
       "⎢⎣0  0  0   1 ⎦  ⎢             ⎥  ⎣0  0  0   1  ⎦  ⎣0  0  0  1/8⎦  ⎣0  0  10  \n",
       "⎣                ⎣0  0  0   1  ⎦                                              \n",
       "\n",
       "                                                                              \n",
       "0⎤  ⎡1  0  0   0⎤  ⎡1  0   0   0⎤  ⎡1  0  0  0⎤  ⎡1  0   0  0⎤  ⎡1  1/3  0  0⎤\n",
       " ⎥  ⎢           ⎥  ⎢            ⎥  ⎢          ⎥  ⎢           ⎥  ⎢            ⎥\n",
       "0⎥  ⎢0  1  -2  0⎥  ⎢0  1   0   0⎥  ⎢0  1  0  0⎥  ⎢0  1   0  0⎥  ⎢0   1   0  0⎥\n",
       " ⎥, ⎢           ⎥, ⎢            ⎥, ⎢          ⎥, ⎢           ⎥, ⎢            ⎥\n",
       "0⎥  ⎢0  0  1   0⎥  ⎢0  0  1/5  0⎥  ⎢0  0  1  0⎥  ⎢0  -4  1  0⎥  ⎢0   0   1  0⎥\n",
       " ⎥  ⎢           ⎥  ⎢            ⎥  ⎢          ⎥  ⎢           ⎥  ⎢            ⎥\n",
       "1⎦  ⎣0  0  0   1⎦  ⎣0  0   0   1⎦  ⎣0  2  0  1⎦  ⎣0  0   0  1⎦  ⎣0   0   0  1⎦\n",
       "                                                                              \n",
       "\n",
       "                                                                             ⎤\n",
       "  ⎡1   0    0  0⎤  ⎡1  0  0  0⎤  ⎡1   0  0  0⎤  ⎡1   0  0  0⎤  ⎡1/6  0  0  0⎤⎥\n",
       "  ⎢             ⎥  ⎢          ⎥  ⎢           ⎥  ⎢           ⎥  ⎢            ⎥⎥\n",
       "  ⎢0  -1/2  0  0⎥  ⎢0  1  0  0⎥  ⎢0   1  0  0⎥  ⎢-3  1  0  0⎥  ⎢ 0   1  0  0⎥⎥\n",
       ", ⎢             ⎥, ⎢          ⎥, ⎢           ⎥, ⎢           ⎥, ⎢            ⎥⎥\n",
       "  ⎢0   0    1  0⎥  ⎢0  0  1  0⎥  ⎢12  0  1  0⎥  ⎢0   0  1  0⎥  ⎢ 0   0  1  0⎥⎥\n",
       "  ⎢             ⎥  ⎢          ⎥  ⎢           ⎥  ⎢           ⎥  ⎢            ⎥⎥\n",
       "  ⎣0   0    0  1⎦  ⎣6  0  0  1⎦  ⎣0   0  0  1⎦  ⎣0   0  0  1⎦  ⎣ 0   0  0  1⎦⎥\n",
       "                                                                             ⎦"
      ]
     },
     "execution_count": 130,
     "metadata": {},
     "output_type": "execute_result"
    }
   ],
   "source": [
    "history_reversed = list(reversed(history))\n",
    "\n",
    "history_reversed"
   ]
  },
  {
   "cell_type": "code",
   "execution_count": 131,
   "metadata": {},
   "outputs": [
    {
     "data": {
      "text/latex": [
       "$\\displaystyle \\left[ \\left[\\begin{matrix}1 & 0 & 0 & 0\\\\0 & 1 & 0 & 0\\\\0 & 0 & 1 & - \\frac{2}{5}\\\\0 & 0 & 0 & 1\\end{matrix}\\right], \\  \\left[\\begin{matrix}1 & 0 & 0 & 0\\\\0 & 1 & 0 & \\frac{13}{10}\\\\0 & 0 & 1 & 0\\\\0 & 0 & 0 & 1\\end{matrix}\\right], \\  \\left[\\begin{matrix}1 & 0 & 0 & \\frac{5}{6}\\\\0 & 1 & 0 & 0\\\\0 & 0 & 1 & 0\\\\0 & 0 & 0 & 1\\end{matrix}\\right], \\  \\left[\\begin{matrix}1 & 0 & 0 & 0\\\\0 & 1 & 0 & 0\\\\0 & 0 & 1 & 0\\\\0 & 0 & 0 & 8\\end{matrix}\\right], \\  \\left[\\begin{matrix}1 & 0 & 0 & 0\\\\0 & 1 & 0 & 0\\\\0 & 0 & 1 & 0\\\\0 & 0 & -10 & 1\\end{matrix}\\right], \\  \\left[\\begin{matrix}1 & 0 & 0 & 0\\\\0 & 1 & 2 & 0\\\\0 & 0 & 1 & 0\\\\0 & 0 & 0 & 1\\end{matrix}\\right], \\  \\left[\\begin{matrix}1 & 0 & 0 & 0\\\\0 & 1 & 0 & 0\\\\0 & 0 & 5 & 0\\\\0 & 0 & 0 & 1\\end{matrix}\\right], \\  \\left[\\begin{matrix}1 & 0 & 0 & 0\\\\0 & 1 & 0 & 0\\\\0 & 0 & 1 & 0\\\\0 & -2 & 0 & 1\\end{matrix}\\right], \\  \\left[\\begin{matrix}1 & 0 & 0 & 0\\\\0 & 1 & 0 & 0\\\\0 & 4 & 1 & 0\\\\0 & 0 & 0 & 1\\end{matrix}\\right], \\  \\left[\\begin{matrix}1 & - \\frac{1}{3} & 0 & 0\\\\0 & 1 & 0 & 0\\\\0 & 0 & 1 & 0\\\\0 & 0 & 0 & 1\\end{matrix}\\right], \\  \\left[\\begin{matrix}1 & 0 & 0 & 0\\\\0 & -2 & 0 & 0\\\\0 & 0 & 1 & 0\\\\0 & 0 & 0 & 1\\end{matrix}\\right], \\  \\left[\\begin{matrix}1 & 0 & 0 & 0\\\\0 & 1 & 0 & 0\\\\0 & 0 & 1 & 0\\\\-6 & 0 & 0 & 1\\end{matrix}\\right], \\  \\left[\\begin{matrix}1 & 0 & 0 & 0\\\\0 & 1 & 0 & 0\\\\-12 & 0 & 1 & 0\\\\0 & 0 & 0 & 1\\end{matrix}\\right], \\  \\left[\\begin{matrix}1 & 0 & 0 & 0\\\\3 & 1 & 0 & 0\\\\0 & 0 & 1 & 0\\\\0 & 0 & 0 & 1\\end{matrix}\\right], \\  \\left[\\begin{matrix}6 & 0 & 0 & 0\\\\0 & 1 & 0 & 0\\\\0 & 0 & 1 & 0\\\\0 & 0 & 0 & 1\\end{matrix}\\right]\\right]$"
      ],
      "text/plain": [
       "⎡                 ⎡1  0  0  0 ⎤                                               \n",
       "⎢⎡1  0  0   0  ⎤  ⎢           ⎥  ⎡1  0  0  5/6⎤  ⎡1  0  0  0⎤  ⎡1  0   0   0⎤ \n",
       "⎢⎢             ⎥  ⎢         13⎥  ⎢            ⎥  ⎢          ⎥  ⎢            ⎥ \n",
       "⎢⎢0  1  0   0  ⎥  ⎢0  1  0  ──⎥  ⎢0  1  0   0 ⎥  ⎢0  1  0  0⎥  ⎢0  1   0   0⎥ \n",
       "⎢⎢             ⎥, ⎢         10⎥, ⎢            ⎥, ⎢          ⎥, ⎢            ⎥,\n",
       "⎢⎢0  0  1  -2/5⎥  ⎢           ⎥  ⎢0  0  1   0 ⎥  ⎢0  0  1  0⎥  ⎢0  0   1   0⎥ \n",
       "⎢⎢             ⎥  ⎢0  0  1  0 ⎥  ⎢            ⎥  ⎢          ⎥  ⎢            ⎥ \n",
       "⎢⎣0  0  0   1  ⎦  ⎢           ⎥  ⎣0  0  0   1 ⎦  ⎣0  0  0  8⎦  ⎣0  0  -10  1⎦ \n",
       "⎣                 ⎣0  0  0  1 ⎦                                               \n",
       "\n",
       "                                                                              \n",
       " ⎡1  0  0  0⎤  ⎡1  0  0  0⎤  ⎡1  0   0  0⎤  ⎡1  0  0  0⎤  ⎡1  -1/3  0  0⎤  ⎡1 \n",
       " ⎢          ⎥  ⎢          ⎥  ⎢           ⎥  ⎢          ⎥  ⎢             ⎥  ⎢  \n",
       " ⎢0  1  2  0⎥  ⎢0  1  0  0⎥  ⎢0  1   0  0⎥  ⎢0  1  0  0⎥  ⎢0   1    0  0⎥  ⎢0 \n",
       " ⎢          ⎥, ⎢          ⎥, ⎢           ⎥, ⎢          ⎥, ⎢             ⎥, ⎢  \n",
       " ⎢0  0  1  0⎥  ⎢0  0  5  0⎥  ⎢0  0   1  0⎥  ⎢0  4  1  0⎥  ⎢0   0    1  0⎥  ⎢0 \n",
       " ⎢          ⎥  ⎢          ⎥  ⎢           ⎥  ⎢          ⎥  ⎢             ⎥  ⎢  \n",
       " ⎣0  0  0  1⎦  ⎣0  0  0  1⎦  ⎣0  -2  0  1⎦  ⎣0  0  0  1⎦  ⎣0   0    0  1⎦  ⎣0 \n",
       "                                                                              \n",
       "\n",
       "                                                                     ⎤\n",
       " 0   0  0⎤  ⎡1   0  0  0⎤  ⎡ 1   0  0  0⎤  ⎡1  0  0  0⎤  ⎡6  0  0  0⎤⎥\n",
       "         ⎥  ⎢           ⎥  ⎢            ⎥  ⎢          ⎥  ⎢          ⎥⎥\n",
       " -2  0  0⎥  ⎢0   1  0  0⎥  ⎢ 0   1  0  0⎥  ⎢3  1  0  0⎥  ⎢0  1  0  0⎥⎥\n",
       "         ⎥, ⎢           ⎥, ⎢            ⎥, ⎢          ⎥, ⎢          ⎥⎥\n",
       " 0   1  0⎥  ⎢0   0  1  0⎥  ⎢-12  0  1  0⎥  ⎢0  0  1  0⎥  ⎢0  0  1  0⎥⎥\n",
       "         ⎥  ⎢           ⎥  ⎢            ⎥  ⎢          ⎥  ⎢          ⎥⎥\n",
       " 0   0  1⎦  ⎣-6  0  0  1⎦  ⎣ 0   0  0  1⎦  ⎣0  0  0  1⎦  ⎣0  0  0  1⎦⎥\n",
       "                                                                     ⎦"
      ]
     },
     "execution_count": 131,
     "metadata": {},
     "output_type": "execute_result"
    }
   ],
   "source": [
    "history_reversed_inv = [i.inv() for i in history_reversed]\n",
    "\n",
    "history_reversed_inv"
   ]
  },
  {
   "cell_type": "code",
   "execution_count": 132,
   "metadata": {},
   "outputs": [
    {
     "data": {
      "text/latex": [
       "$\\displaystyle \\left( \\left[\\begin{matrix}6 & -2 & -4 & 4\\\\3 & -3 & -6 & 1\\\\-12 & 8 & 21 & -8\\\\-6 & 0 & -10 & 7\\end{matrix}\\right], \\  \\left[\\begin{matrix}6 & -2 & -4 & 4\\\\3 & -3 & -6 & 1\\\\-12 & 8 & 21 & -8\\\\-6 & 0 & -10 & 7\\end{matrix}\\right]\\right)$"
      ],
      "text/plain": [
       "⎛⎡ 6   -2  -4   4 ⎤  ⎡ 6   -2  -4   4 ⎤⎞\n",
       "⎜⎢                ⎥  ⎢                ⎥⎟\n",
       "⎜⎢ 3   -3  -6   1 ⎥  ⎢ 3   -3  -6   1 ⎥⎟\n",
       "⎜⎢                ⎥, ⎢                ⎥⎟\n",
       "⎜⎢-12  8   21   -8⎥  ⎢-12  8   21   -8⎥⎟\n",
       "⎜⎢                ⎥  ⎢                ⎥⎟\n",
       "⎝⎣-6   0   -10  7 ⎦  ⎣-6   0   -10  7 ⎦⎠"
      ]
     },
     "execution_count": 132,
     "metadata": {},
     "output_type": "execute_result"
    }
   ],
   "source": [
    "s = 1\n",
    "for i in history_reversed_inv:\n",
    "    s = i * s\n",
    "A,s"
   ]
  },
  {
   "cell_type": "code",
   "execution_count": 133,
   "metadata": {},
   "outputs": [
    {
     "data": {
      "text/latex": [
       "$\\displaystyle \\left( \\left[\\begin{matrix}6 & -2 & -4 & 4\\\\3 & -3 & -6 & 1\\\\-12 & 8 & 21 & -8\\\\-6 & 0 & -10 & 7\\end{matrix}\\right], \\  \\left[ \\left[\\begin{matrix}1 & 0 & 0 & 0\\\\- \\frac{1}{2} & 1 & 0 & 0\\\\0 & 0 & 1 & 0\\\\0 & 0 & 0 & 1\\end{matrix}\\right], \\  \\left[\\begin{matrix}1 & 0 & 0 & 0\\\\0 & 1 & 0 & 0\\\\2 & 0 & 1 & 0\\\\0 & 0 & 0 & 1\\end{matrix}\\right], \\  \\left[\\begin{matrix}1 & 0 & 0 & 0\\\\0 & 1 & 0 & 0\\\\0 & 0 & 1 & 0\\\\1 & 0 & 0 & 1\\end{matrix}\\right], \\  \\left[\\begin{matrix}1 & 0 & 0 & 0\\\\0 & 1 & 0 & 0\\\\0 & 2 & 1 & 0\\\\0 & 0 & 0 & 1\\end{matrix}\\right], \\  \\left[\\begin{matrix}1 & 0 & 0 & 0\\\\0 & 1 & 0 & 0\\\\0 & 0 & 1 & 0\\\\0 & -1 & 0 & 1\\end{matrix}\\right], \\  \\left[\\begin{matrix}1 & 0 & 0 & 0\\\\0 & 1 & 0 & 0\\\\0 & 0 & 1 & 0\\\\0 & 0 & 2 & 1\\end{matrix}\\right]\\right], \\  \\left[\\begin{matrix}6 & -2 & -4 & 4\\\\0 & -2 & -4 & -1\\\\0 & 0 & 5 & -2\\\\0 & 0 & 0 & 8\\end{matrix}\\right]\\right)$"
      ],
      "text/plain": [
       "⎛⎡ 6   -2  -4   4 ⎤  ⎡⎡ 1    0  0  0⎤  ⎡1  0  0  0⎤  ⎡1  0  0  0⎤  ⎡1  0  0  0\n",
       "⎜⎢                ⎥  ⎢⎢             ⎥  ⎢          ⎥  ⎢          ⎥  ⎢          \n",
       "⎜⎢ 3   -3  -6   1 ⎥  ⎢⎢-1/2  1  0  0⎥  ⎢0  1  0  0⎥  ⎢0  1  0  0⎥  ⎢0  1  0  0\n",
       "⎜⎢                ⎥, ⎢⎢             ⎥, ⎢          ⎥, ⎢          ⎥, ⎢          \n",
       "⎜⎢-12  8   21   -8⎥  ⎢⎢ 0    0  1  0⎥  ⎢2  0  1  0⎥  ⎢0  0  1  0⎥  ⎢0  2  1  0\n",
       "⎜⎢                ⎥  ⎢⎢             ⎥  ⎢          ⎥  ⎢          ⎥  ⎢          \n",
       "⎝⎣-6   0   -10  7 ⎦  ⎣⎣ 0    0  0  1⎦  ⎣0  0  0  1⎦  ⎣1  0  0  1⎦  ⎣0  0  0  1\n",
       "\n",
       "⎤  ⎡1  0   0  0⎤  ⎡1  0  0  0⎤⎤  ⎡6  -2  -4  4 ⎤⎞\n",
       "⎥  ⎢           ⎥  ⎢          ⎥⎥  ⎢             ⎥⎟\n",
       "⎥  ⎢0  1   0  0⎥  ⎢0  1  0  0⎥⎥  ⎢0  -2  -4  -1⎥⎟\n",
       "⎥, ⎢           ⎥, ⎢          ⎥⎥, ⎢             ⎥⎟\n",
       "⎥  ⎢0  0   1  0⎥  ⎢0  0  1  0⎥⎥  ⎢0  0   5   -2⎥⎟\n",
       "⎥  ⎢           ⎥  ⎢          ⎥⎥  ⎢             ⎥⎟\n",
       "⎦  ⎣0  -1  0  1⎦  ⎣0  0  2  1⎦⎦  ⎣0  0   0   8 ⎦⎠"
      ]
     },
     "execution_count": 133,
     "metadata": {},
     "output_type": "execute_result"
    }
   ],
   "source": [
    "def find_u_with_history(A):\n",
    "    history = []\n",
    "    new_A = A\n",
    "    # приводим к ref\n",
    "    for col in range(new_A.shape[1]):\n",
    "        element_to_one = new_A[col, col]\n",
    "        for row in range(new_A.shape[0]):\n",
    "            if row > col and new_A[row, col] != 0:\n",
    "                element_to_zero = new_A[row, col]\n",
    "                op = A_op(row, col, -Fraction(int(element_to_zero),int(element_to_one)))\n",
    "                history.append(op)\n",
    "                new_A = op * new_A\n",
    "    return new_A, history\n",
    "U, history = find_u_with_history(A)\n",
    "A, history, U"
   ]
  },
  {
   "cell_type": "code",
   "execution_count": 134,
   "metadata": {},
   "outputs": [
    {
     "data": {
      "text/latex": [
       "$\\displaystyle \\left[ \\left[\\begin{matrix}1 & 0 & 0 & 0\\\\0 & 1 & 0 & 0\\\\0 & 0 & 1 & 0\\\\0 & 0 & 2 & 1\\end{matrix}\\right], \\  \\left[\\begin{matrix}1 & 0 & 0 & 0\\\\0 & 1 & 0 & 0\\\\0 & 0 & 1 & 0\\\\0 & -1 & 0 & 1\\end{matrix}\\right], \\  \\left[\\begin{matrix}1 & 0 & 0 & 0\\\\0 & 1 & 0 & 0\\\\0 & 2 & 1 & 0\\\\0 & 0 & 0 & 1\\end{matrix}\\right], \\  \\left[\\begin{matrix}1 & 0 & 0 & 0\\\\0 & 1 & 0 & 0\\\\0 & 0 & 1 & 0\\\\1 & 0 & 0 & 1\\end{matrix}\\right], \\  \\left[\\begin{matrix}1 & 0 & 0 & 0\\\\0 & 1 & 0 & 0\\\\2 & 0 & 1 & 0\\\\0 & 0 & 0 & 1\\end{matrix}\\right], \\  \\left[\\begin{matrix}1 & 0 & 0 & 0\\\\- \\frac{1}{2} & 1 & 0 & 0\\\\0 & 0 & 1 & 0\\\\0 & 0 & 0 & 1\\end{matrix}\\right]\\right]$"
      ],
      "text/plain": [
       "⎡⎡1  0  0  0⎤  ⎡1  0   0  0⎤  ⎡1  0  0  0⎤  ⎡1  0  0  0⎤  ⎡1  0  0  0⎤  ⎡ 1   \n",
       "⎢⎢          ⎥  ⎢           ⎥  ⎢          ⎥  ⎢          ⎥  ⎢          ⎥  ⎢     \n",
       "⎢⎢0  1  0  0⎥  ⎢0  1   0  0⎥  ⎢0  1  0  0⎥  ⎢0  1  0  0⎥  ⎢0  1  0  0⎥  ⎢-1/2 \n",
       "⎢⎢          ⎥, ⎢           ⎥, ⎢          ⎥, ⎢          ⎥, ⎢          ⎥, ⎢     \n",
       "⎢⎢0  0  1  0⎥  ⎢0  0   1  0⎥  ⎢0  2  1  0⎥  ⎢0  0  1  0⎥  ⎢2  0  1  0⎥  ⎢ 0   \n",
       "⎢⎢          ⎥  ⎢           ⎥  ⎢          ⎥  ⎢          ⎥  ⎢          ⎥  ⎢     \n",
       "⎣⎣0  0  2  1⎦  ⎣0  -1  0  1⎦  ⎣0  0  0  1⎦  ⎣1  0  0  1⎦  ⎣0  0  0  1⎦  ⎣ 0   \n",
       "\n",
       " 0  0  0⎤⎤\n",
       "        ⎥⎥\n",
       " 1  0  0⎥⎥\n",
       "        ⎥⎥\n",
       " 0  1  0⎥⎥\n",
       "        ⎥⎥\n",
       " 0  0  1⎦⎦"
      ]
     },
     "execution_count": 134,
     "metadata": {},
     "output_type": "execute_result"
    }
   ],
   "source": [
    "history_reversed = list(reversed(history))\n",
    "\n",
    "history_reversed"
   ]
  },
  {
   "cell_type": "code",
   "execution_count": 135,
   "metadata": {},
   "outputs": [
    {
     "data": {
      "text/latex": [
       "$\\displaystyle \\left( \\left[\\begin{matrix}6 & -2 & -4 & 4\\\\3 & -3 & -6 & 1\\\\-12 & 8 & 21 & -8\\\\-6 & 0 & -10 & 7\\end{matrix}\\right], \\  \\left[\\begin{matrix}1 & 0 & 0 & 0\\\\- \\frac{1}{2} & 1 & 0 & 0\\\\1 & 2 & 1 & 0\\\\\\frac{7}{2} & 3 & 2 & 1\\end{matrix}\\right], \\  \\left[\\begin{matrix}6 & -2 & -4 & 4\\\\0 & -2 & -4 & -1\\\\0 & 0 & 5 & -2\\\\0 & 0 & 0 & 8\\end{matrix}\\right], \\  \\left[\\begin{matrix}6 & -2 & -4 & 4\\\\0 & -2 & -4 & -1\\\\0 & 0 & 5 & -2\\\\0 & 0 & 0 & 8\\end{matrix}\\right], \\  \\left[ \\left[\\begin{matrix}1 & 0 & 0 & 0\\\\- \\frac{1}{2} & 1 & 0 & 0\\\\0 & 0 & 1 & 0\\\\0 & 0 & 0 & 1\\end{matrix}\\right], \\  \\left[\\begin{matrix}1 & 0 & 0 & 0\\\\- \\frac{1}{2} & 1 & 0 & 0\\\\2 & 0 & 1 & 0\\\\0 & 0 & 0 & 1\\end{matrix}\\right], \\  \\left[\\begin{matrix}1 & 0 & 0 & 0\\\\- \\frac{1}{2} & 1 & 0 & 0\\\\2 & 0 & 1 & 0\\\\1 & 0 & 0 & 1\\end{matrix}\\right], \\  \\left[\\begin{matrix}1 & 0 & 0 & 0\\\\- \\frac{1}{2} & 1 & 0 & 0\\\\1 & 2 & 1 & 0\\\\1 & 0 & 0 & 1\\end{matrix}\\right], \\  \\left[\\begin{matrix}1 & 0 & 0 & 0\\\\- \\frac{1}{2} & 1 & 0 & 0\\\\1 & 2 & 1 & 0\\\\\\frac{3}{2} & -1 & 0 & 1\\end{matrix}\\right], \\  \\left[\\begin{matrix}1 & 0 & 0 & 0\\\\- \\frac{1}{2} & 1 & 0 & 0\\\\1 & 2 & 1 & 0\\\\\\frac{7}{2} & 3 & 2 & 1\\end{matrix}\\right]\\right]\\right)$"
      ],
      "text/plain": [
       "⎛⎡ 6   -2  -4   4 ⎤  ⎡ 1    0  0  0⎤  ⎡6  -2  -4  4 ⎤  ⎡6  -2  -4  4 ⎤  ⎡⎡ 1  \n",
       "⎜⎢                ⎥  ⎢             ⎥  ⎢             ⎥  ⎢             ⎥  ⎢⎢    \n",
       "⎜⎢ 3   -3  -6   1 ⎥  ⎢-1/2  1  0  0⎥  ⎢0  -2  -4  -1⎥  ⎢0  -2  -4  -1⎥  ⎢⎢-1/2\n",
       "⎜⎢                ⎥, ⎢             ⎥, ⎢             ⎥, ⎢             ⎥, ⎢⎢    \n",
       "⎜⎢-12  8   21   -8⎥  ⎢ 1    2  1  0⎥  ⎢0  0   5   -2⎥  ⎢0  0   5   -2⎥  ⎢⎢ 0  \n",
       "⎜⎢                ⎥  ⎢             ⎥  ⎢             ⎥  ⎢             ⎥  ⎢⎢    \n",
       "⎝⎣-6   0   -10  7 ⎦  ⎣7/2   3  2  1⎦  ⎣0  0   0   8 ⎦  ⎣0  0   0   8 ⎦  ⎣⎣ 0  \n",
       "\n",
       "  0  0  0⎤  ⎡ 1    0  0  0⎤  ⎡ 1    0  0  0⎤  ⎡ 1    0  0  0⎤  ⎡ 1    0   0  0\n",
       "         ⎥  ⎢             ⎥  ⎢             ⎥  ⎢             ⎥  ⎢              \n",
       "  1  0  0⎥  ⎢-1/2  1  0  0⎥  ⎢-1/2  1  0  0⎥  ⎢-1/2  1  0  0⎥  ⎢-1/2  1   0  0\n",
       "         ⎥, ⎢             ⎥, ⎢             ⎥, ⎢             ⎥, ⎢              \n",
       "  0  1  0⎥  ⎢ 2    0  1  0⎥  ⎢ 2    0  1  0⎥  ⎢ 1    2  1  0⎥  ⎢ 1    2   1  0\n",
       "         ⎥  ⎢             ⎥  ⎢             ⎥  ⎢             ⎥  ⎢              \n",
       "  0  0  1⎦  ⎣ 0    0  0  1⎦  ⎣ 1    0  0  1⎦  ⎣ 1    0  0  1⎦  ⎣3/2   -1  0  1\n",
       "\n",
       "⎤  ⎡ 1    0  0  0⎤⎤⎞\n",
       "⎥  ⎢             ⎥⎥⎟\n",
       "⎥  ⎢-1/2  1  0  0⎥⎥⎟\n",
       "⎥, ⎢             ⎥⎥⎟\n",
       "⎥  ⎢ 1    2  1  0⎥⎥⎟\n",
       "⎥  ⎢             ⎥⎥⎟\n",
       "⎦  ⎣7/2   3  2  1⎦⎦⎠"
      ]
     },
     "execution_count": 135,
     "metadata": {},
     "output_type": "execute_result"
    }
   ],
   "source": [
    "s = 1\n",
    "history_addition = []\n",
    "for i in history:\n",
    "    s = i * s\n",
    "    history_addition.append(s)\n",
    "A,s,s*A,U,history_addition"
   ]
  },
  {
   "cell_type": "code",
   "execution_count": 136,
   "metadata": {},
   "outputs": [
    {
     "data": {
      "text/latex": [
       "$\\displaystyle \\left[ \\left[\\begin{matrix}1 & 0 & 0 & 0\\\\0 & 1 & 0 & 0\\\\0 & 0 & 1 & 0\\\\0 & 0 & -2 & 1\\end{matrix}\\right], \\  \\left[\\begin{matrix}1 & 0 & 0 & 0\\\\0 & 1 & 0 & 0\\\\0 & 0 & 1 & 0\\\\0 & 1 & 0 & 1\\end{matrix}\\right], \\  \\left[\\begin{matrix}1 & 0 & 0 & 0\\\\0 & 1 & 0 & 0\\\\0 & -2 & 1 & 0\\\\0 & 0 & 0 & 1\\end{matrix}\\right], \\  \\left[\\begin{matrix}1 & 0 & 0 & 0\\\\0 & 1 & 0 & 0\\\\0 & 0 & 1 & 0\\\\-1 & 0 & 0 & 1\\end{matrix}\\right], \\  \\left[\\begin{matrix}1 & 0 & 0 & 0\\\\0 & 1 & 0 & 0\\\\-2 & 0 & 1 & 0\\\\0 & 0 & 0 & 1\\end{matrix}\\right], \\  \\left[\\begin{matrix}1 & 0 & 0 & 0\\\\\\frac{1}{2} & 1 & 0 & 0\\\\0 & 0 & 1 & 0\\\\0 & 0 & 0 & 1\\end{matrix}\\right]\\right]$"
      ],
      "text/plain": [
       "⎡⎡1  0  0   0⎤  ⎡1  0  0  0⎤  ⎡1  0   0  0⎤  ⎡1   0  0  0⎤  ⎡1   0  0  0⎤  ⎡ 1\n",
       "⎢⎢           ⎥  ⎢          ⎥  ⎢           ⎥  ⎢           ⎥  ⎢           ⎥  ⎢  \n",
       "⎢⎢0  1  0   0⎥  ⎢0  1  0  0⎥  ⎢0  1   0  0⎥  ⎢0   1  0  0⎥  ⎢0   1  0  0⎥  ⎢1/\n",
       "⎢⎢           ⎥, ⎢          ⎥, ⎢           ⎥, ⎢           ⎥, ⎢           ⎥, ⎢  \n",
       "⎢⎢0  0  1   0⎥  ⎢0  0  1  0⎥  ⎢0  -2  1  0⎥  ⎢0   0  1  0⎥  ⎢-2  0  1  0⎥  ⎢ 0\n",
       "⎢⎢           ⎥  ⎢          ⎥  ⎢           ⎥  ⎢           ⎥  ⎢           ⎥  ⎢  \n",
       "⎣⎣0  0  -2  1⎦  ⎣0  1  0  1⎦  ⎣0  0   0  1⎦  ⎣-1  0  0  1⎦  ⎣0   0  0  1⎦  ⎣ 0\n",
       "\n",
       "   0  0  0⎤⎤\n",
       "          ⎥⎥\n",
       "2  1  0  0⎥⎥\n",
       "          ⎥⎥\n",
       "   0  1  0⎥⎥\n",
       "          ⎥⎥\n",
       "   0  0  1⎦⎦"
      ]
     },
     "execution_count": 136,
     "metadata": {},
     "output_type": "execute_result"
    }
   ],
   "source": [
    "history_reversed_inv = [i.inv() for i in history_reversed]\n",
    "history_reversed_inv"
   ]
  },
  {
   "cell_type": "code",
   "execution_count": 137,
   "metadata": {},
   "outputs": [
    {
     "data": {
      "text/latex": [
       "$\\displaystyle \\left( \\left[\\begin{matrix}6 & -2 & -4 & 4\\\\3 & -3 & -6 & 1\\\\-12 & 8 & 21 & -8\\\\-6 & 0 & -10 & 7\\end{matrix}\\right], \\  \\left[\\begin{matrix}6 & -2 & -4 & 4\\\\3 & -3 & -6 & 1\\\\-12 & 8 & 21 & -8\\\\-6 & 0 & -10 & 7\\end{matrix}\\right]\\right)$"
      ],
      "text/plain": [
       "⎛⎡ 6   -2  -4   4 ⎤  ⎡ 6   -2  -4   4 ⎤⎞\n",
       "⎜⎢                ⎥  ⎢                ⎥⎟\n",
       "⎜⎢ 3   -3  -6   1 ⎥  ⎢ 3   -3  -6   1 ⎥⎟\n",
       "⎜⎢                ⎥, ⎢                ⎥⎟\n",
       "⎜⎢-12  8   21   -8⎥  ⎢-12  8   21   -8⎥⎟\n",
       "⎜⎢                ⎥  ⎢                ⎥⎟\n",
       "⎝⎣-6   0   -10  7 ⎦  ⎣-6   0   -10  7 ⎦⎠"
      ]
     },
     "execution_count": 137,
     "metadata": {},
     "output_type": "execute_result"
    }
   ],
   "source": [
    "L = 1\n",
    "for i in history_reversed_inv:\n",
    "    L = i * L\n",
    "\n",
    "A,L*U"
   ]
  },
  {
   "cell_type": "code",
   "execution_count": null,
   "metadata": {},
   "outputs": [],
   "source": [
    "L,U"
   ]
  },
  {
   "cell_type": "code",
   "execution_count": null,
   "metadata": {},
   "outputs": [],
   "source": []
  },
  {
   "cell_type": "code",
   "execution_count": null,
   "metadata": {},
   "outputs": [],
   "source": []
  }
 ],
 "metadata": {
  "kernelspec": {
   "display_name": "Python 3",
   "language": "python",
   "name": "python3"
  },
  "language_info": {
   "codemirror_mode": {
    "name": "ipython",
    "version": 3
   },
   "file_extension": ".py",
   "mimetype": "text/x-python",
   "name": "python",
   "nbconvert_exporter": "python",
   "pygments_lexer": "ipython3",
   "version": "3.9.2+"
  }
 },
 "nbformat": 4,
 "nbformat_minor": 2
}
