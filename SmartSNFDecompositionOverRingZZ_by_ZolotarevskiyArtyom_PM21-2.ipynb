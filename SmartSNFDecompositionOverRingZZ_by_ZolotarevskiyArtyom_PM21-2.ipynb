{
 "cells": [
  {
   "cell_type": "code",
   "execution_count": 53,
   "metadata": {},
   "outputs": [],
   "source": [
    "from sympy import *\n",
    "init_printing()"
   ]
  },
  {
   "cell_type": "code",
   "execution_count": 54,
   "metadata": {},
   "outputs": [],
   "source": [
    "def is_zero(A):\n",
    "    return A == zeros(A.shape[0], A.shape[1])\n",
    "\n",
    "def leftmult2(m, i0, i1, a, b, c, d):\n",
    "    for j in range(m.cols):\n",
    "        x, y = m[i0, j], m[i1, j]\n",
    "        m[i0, j] = a * x + b * y\n",
    "        m[i1, j] = c * x + d * y\n",
    "\n",
    "def rightmult2(m, j0, j1, a, b, c, d):\n",
    "    for i in range(m.rows):\n",
    "        x, y = m[i, j0], m[i, j1]\n",
    "        m[i, j0] = a * x + c * y\n",
    "        m[i, j1] = b * x + d * y\n",
    "\n",
    "def smith(m, domain=ZZ):\n",
    "    m = Matrix(m)\n",
    "    s = eye(m.rows)\n",
    "    t = eye(m.cols)\n",
    "    last_j = -1\n",
    "    for i in range(m.rows):\n",
    "        for j in range(last_j+1, m.cols):\n",
    "            if not is_zero(m.col(j)):\n",
    "                break\n",
    "        else:\n",
    "            break\n",
    "        if m[i,j] == 0:\n",
    "            for ii in range(m.rows):\n",
    "                if m[ii,j] != 0:\n",
    "                    break\n",
    "            leftmult2(m, i, ii, 0, 1, 1, 0)\n",
    "            rightmult2(s, i, ii, 0, 1, 1, 0)\n",
    "        rightmult2(m, j, i, 0, 1, 1, 0)\n",
    "        leftmult2(t, j, i, 0, 1, 1, 0)\n",
    "        j = i\n",
    "        upd = True\n",
    "        while upd:\n",
    "            upd = False\n",
    "            for ii in range(i+1, m.rows):\n",
    "                if m[ii, j] == 0:\n",
    "                    continue\n",
    "                upd = True\n",
    "                if domain.rem(m[ii, j], m[i, j]) != 0:\n",
    "                    coef1, coef2, g = domain.gcdex(m[i,j], m[ii, j])\n",
    "                    coef3 = domain.quo(m[ii, j], g)\n",
    "                    coef4 = domain.quo(m[i, j], g)\n",
    "                    leftmult2(m, i, ii, coef1, coef2, -coef3, coef4)\n",
    "                    rightmult2(s, i, ii, coef4, -coef2, coef3, coef1)\n",
    "                coef5 = domain.quo(m[ii, j], m[i, j])\n",
    "                leftmult2(m, i, ii, 1, 0, -coef5, 1)\n",
    "                rightmult2(s, i, ii, 1, 0, coef5, 1)\n",
    "            for jj in range(j+1, m.cols):\n",
    "                if m[i, jj] == 0:\n",
    "                    continue\n",
    "                upd = True\n",
    "                if domain.rem(m[i, jj], m[i, j]) != 0:\n",
    "                    coef1, coef2, g = domain.gcdex(m[i,j], m[i, jj])\n",
    "                    coef3 = domain.quo(m[i, jj], g)\n",
    "                    coef4 = domain.quo(m[i, j], g)\n",
    "                    rightmult2(m, j, jj, coef1, -coef3, coef2, coef4)\n",
    "                    leftmult2(t, j, jj, coef4, coef3, -coef2, coef1)\n",
    "                coef5 = domain.quo(m[i, jj], m[i, j])\n",
    "                rightmult2(m, j, jj, 1, -coef5, 0, 1)\n",
    "                leftmult2(t, j, jj, 1, coef5, 0, 1)\n",
    "        last_j = j\n",
    "    for i1 in range(min(m.rows, m.cols)):\n",
    "        for i0 in reversed(range(i1)):\n",
    "            coef1, coef2, g = domain.gcdex(m[i0, i0], m[i1,i1])\n",
    "            if g == 0:\n",
    "                continue\n",
    "            coef3 = domain.quo(m[i1, i1], g)\n",
    "            coef4 = domain.quo(m[i0, i0], g)\n",
    "            leftmult2(m, i0, i1, 1, coef2, coef3, coef2*coef3-1)\n",
    "            rightmult2(s, i0, i1, 1-coef2*coef3, coef2, coef3, -1)\n",
    "            rightmult2(m, i0, i1, coef1, 1-coef1*coef4, 1, -coef4)\n",
    "            leftmult2(t, i0, i1, coef4, 1-coef1*coef4, 1, -coef1)\n",
    "    return (s, m, t)"
   ]
  },
  {
   "cell_type": "code",
   "execution_count": 55,
   "metadata": {},
   "outputs": [],
   "source": [
    "def P_op(In_size, n, m):\n",
    "    return eye(In_size).elementary_row_op('n<->m', n, m)\n",
    "\n",
    "def M_op(In_size, n, k):\n",
    "    return eye(In_size).elementary_row_op('n->kn', n, k)\n",
    "\n",
    "def A_op(In_size, n, m, k):\n",
    "    return eye(In_size).elementary_row_op('n->n+km', row1=n, row2=m, k=k)\n",
    "\n",
    "def smart_rref_decomposition(rref):\n",
    "    elementary_matrices = []\n",
    "    # количество нулевых строк в rref\n",
    "    null_row_count = 0\n",
    "    row = 0\n",
    "    # вычеркиваем нулевые строки\n",
    "    while row < rref.shape[0]:\n",
    "        if rref.row(row) == zeros(1, rref.shape[1]):\n",
    "            rref.row_del(row)\n",
    "        row += 1\n",
    "    # индексы ячеек главной диагонали\n",
    "    diag_i, diag_j = 0, 0\n",
    "    while diag_i < rref.shape[0] and diag_j < rref.shape[1]:\n",
    "        element_to_one = rref[diag_i, diag_j]\n",
    "        if element_to_one == 0:\n",
    "            # ищем ненулевой элемент в столбце\n",
    "            found = False\n",
    "            for row in range(diag_i + 1, rref.shape[0]):\n",
    "                # если нашли\n",
    "                if rref[row, diag_j] != 0:\n",
    "                    element_to_one = rref[row, diag_j]\n",
    "                    # перестановка\n",
    "                    op = P_op(rref.shape[0], diag_i, row)\n",
    "                    # сохраняем перестановку\n",
    "                    elementary_matrices.append(op)\n",
    "                    rref = op * rref\n",
    "                    found = True\n",
    "                    break\n",
    "            # если не нашли\n",
    "            if found == False:\n",
    "                # смещаемся вправо\n",
    "                diag_j += 1\n",
    "                continue  \n",
    "        # приводим к единице, если надо\n",
    "        if element_to_one != 1: \n",
    "            op = M_op(rref.shape[0], diag_i, 1 / element_to_one)\n",
    "            elementary_matrices.append(op)\n",
    "            rref = op * rref   \n",
    "        # приводим к нулю элементы под и над данной ячейкой\n",
    "        row = 0 \n",
    "        while row < rref.shape[0]:\n",
    "            if row != diag_i and rref[row, diag_j] != 0 and rref.row(row) != zeros(1, rref.shape[1]):\n",
    "                element_to_zero = rref[row, diag_j]\n",
    "                op = A_op(rref.shape[0], row, diag_i, -element_to_zero)\n",
    "                elementary_matrices.append(op)\n",
    "                rref = op * rref  \n",
    "                # если получили нулевую строку,\n",
    "                # то вычеркиваем ее\n",
    "                if rref.row(row) == zeros(1, rref.shape[1]):\n",
    "                    rref.row_del(row)  \n",
    "                    row -= 1\n",
    "                    if (row < diag_i):\n",
    "                        diag_i -= 1\n",
    "                    # и запоминаем, что вычеркнули\n",
    "                    null_row_count += 1\n",
    "            row += 1         \n",
    "        diag_i += 1\n",
    "        diag_j += 1            \n",
    "    # записываем обратно вычеркнутые строки\n",
    "    for i in range(null_row_count):\n",
    "        rref = rref.row_insert(rref.shape[0], zeros(1, rref.shape[1]))\n",
    "    return rref, elementary_matrices"
   ]
  },
  {
   "cell_type": "code",
   "execution_count": 56,
   "metadata": {},
   "outputs": [],
   "source": [
    "# разложение невырожденных матриц на произведение элементарных\n",
    "def nondegenerate_decomposition(A):\n",
    "    rref, elementary_matrices = smart_rref_decomposition(A)\n",
    "    elementary_matrices.append(rref)\n",
    "    elementary_matrices_reversed = list(reversed(elementary_matrices))\n",
    "    elementary_matrices_reversed_inv = [i.inv() for i in elementary_matrices_reversed]\n",
    "    return elementary_matrices_reversed_inv\n",
    "\n",
    "# разложение с дробными коэффициентами\n",
    "def smart_snf_decomposition(A):\n",
    "    m, n = A.shape\n",
    "    A_Im = Matrix.hstack(A, eye(m))\n",
    "    U = A_Im.rref()[0][:, n:]\n",
    "    R = A.rref()[0]\n",
    "    RT_In = Matrix.hstack(R.T, eye(n))\n",
    "    VT = RT_In.rref()[0][:, m:]\n",
    "    V = VT.T\n",
    "    return U*A*V, nondegenerate_decomposition(U), nondegenerate_decomposition(V)\n",
    "\n",
    "# разложение с целыми коэффициентами\n",
    "def smart_snf_decomposition_over_ring_zz(A):\n",
    "    S, SNF, T = smith(A)\n",
    "    # S*SNF*T == A\n",
    "    U = S.inv()\n",
    "    V = T.inv()\n",
    "    #U*A*V == SNF\n",
    "    return U*A*V, nondegenerate_decomposition(U), nondegenerate_decomposition(V)"
   ]
  },
  {
   "cell_type": "code",
   "execution_count": 57,
   "metadata": {
    "scrolled": true
   },
   "outputs": [
    {
     "data": {
      "text/latex": [
       "$\\displaystyle \\left( \\left[\\begin{matrix}1 & 0 & 0 & 0\\\\0 & 1 & 0 & 0\\\\0 & 0 & 0 & 0\\end{matrix}\\right], \\  \\left[ \\left[\\begin{matrix}1 & 0 & 0\\\\0 & 1 & 0\\\\0 & 0 & 1\\end{matrix}\\right], \\  \\left[\\begin{matrix}1 & 0 & 0\\\\0 & 1 & 0\\\\0 & \\frac{2}{3} & 1\\end{matrix}\\right], \\  \\left[\\begin{matrix}1 & - \\frac{1}{3} & 0\\\\0 & 1 & 0\\\\0 & 0 & 1\\end{matrix}\\right], \\  \\left[\\begin{matrix}1 & 0 & 0\\\\0 & - \\frac{1}{3} & 0\\\\0 & 0 & 1\\end{matrix}\\right], \\  \\left[\\begin{matrix}1 & 0 & 0\\\\0 & 1 & 0\\\\-1 & 0 & 1\\end{matrix}\\right], \\  \\left[\\begin{matrix}1 & 0 & 0\\\\-1 & 1 & 0\\\\0 & 0 & 1\\end{matrix}\\right], \\  \\left[\\begin{matrix}3 & 0 & 0\\\\0 & 1 & 0\\\\0 & 0 & 1\\end{matrix}\\right]\\right], \\  \\left[ \\left[\\begin{matrix}1 & 0 & 0 & 0\\\\0 & 1 & 0 & 0\\\\0 & 0 & 1 & 0\\\\0 & 0 & 0 & 1\\end{matrix}\\right], \\  \\left[\\begin{matrix}1 & 0 & 0 & 0\\\\0 & 1 & 0 & 0\\\\0 & 0 & 1 & -5\\\\0 & 0 & 0 & 1\\end{matrix}\\right], \\  \\left[\\begin{matrix}1 & 0 & 0 & 0\\\\0 & 1 & 0 & 2\\\\0 & 0 & 1 & 0\\\\0 & 0 & 0 & 1\\end{matrix}\\right], \\  \\left[\\begin{matrix}1 & 0 & 0 & -7\\\\0 & 1 & 0 & 0\\\\0 & 0 & 1 & 0\\\\0 & 0 & 0 & 1\\end{matrix}\\right], \\  \\left[\\begin{matrix}1 & 0 & 0 & 0\\\\0 & 1 & 1 & 0\\\\0 & 0 & 1 & 0\\\\0 & 0 & 0 & 1\\end{matrix}\\right], \\  \\left[\\begin{matrix}1 & 0 & -2 & 0\\\\0 & 1 & 0 & 0\\\\0 & 0 & 1 & 0\\\\0 & 0 & 0 & 1\\end{matrix}\\right], \\  \\left[\\begin{matrix}1 & 1 & 0 & 0\\\\0 & 1 & 0 & 0\\\\0 & 0 & 1 & 0\\\\0 & 0 & 0 & 1\\end{matrix}\\right], \\  \\left[\\begin{matrix}1 & 0 & 0 & 0\\\\0 & -1 & 0 & 0\\\\0 & 0 & 1 & 0\\\\0 & 0 & 0 & 1\\end{matrix}\\right], \\  \\left[\\begin{matrix}1 & 0 & 0 & 0\\\\0 & 1 & 0 & 0\\\\1 & 0 & 1 & 0\\\\0 & 0 & 0 & 1\\end{matrix}\\right], \\  \\left[\\begin{matrix}0 & 1 & 0 & 0\\\\1 & 0 & 0 & 0\\\\0 & 0 & 1 & 0\\\\0 & 0 & 0 & 1\\end{matrix}\\right]\\right]\\right)$"
      ],
      "text/plain": [
       "⎛                                                                             \n",
       "⎜⎡1  0  0  0⎤  ⎡⎡1  0  0⎤  ⎡1   0   0⎤  ⎡1  -1/3  0⎤  ⎡1   0    0⎤  ⎡1   0  0⎤\n",
       "⎜⎢          ⎥  ⎢⎢       ⎥  ⎢         ⎥  ⎢          ⎥  ⎢          ⎥  ⎢        ⎥\n",
       "⎜⎢0  1  0  0⎥, ⎢⎢0  1  0⎥, ⎢0   1   0⎥, ⎢0   1    0⎥, ⎢0  -1/3  0⎥, ⎢0   1  0⎥\n",
       "⎜⎢          ⎥  ⎢⎢       ⎥  ⎢         ⎥  ⎢          ⎥  ⎢          ⎥  ⎢        ⎥\n",
       "⎜⎣0  0  0  0⎦  ⎣⎣0  0  1⎦  ⎣0  2/3  1⎦  ⎣0   0    1⎦  ⎣0   0    1⎦  ⎣-1  0  1⎦\n",
       "⎝                                                                             \n",
       "\n",
       "                          ⎡⎡1  0  0  0⎤  ⎡1  0  0  0 ⎤  ⎡1  0  0  0⎤  ⎡1  0  0\n",
       "  ⎡1   0  0⎤  ⎡3  0  0⎤⎤  ⎢⎢          ⎥  ⎢           ⎥  ⎢          ⎥  ⎢       \n",
       "  ⎢        ⎥  ⎢       ⎥⎥  ⎢⎢0  1  0  0⎥  ⎢0  1  0  0 ⎥  ⎢0  1  0  2⎥  ⎢0  1  0\n",
       ", ⎢-1  1  0⎥, ⎢0  1  0⎥⎥, ⎢⎢          ⎥, ⎢           ⎥, ⎢          ⎥, ⎢       \n",
       "  ⎢        ⎥  ⎢       ⎥⎥  ⎢⎢0  0  1  0⎥  ⎢0  0  1  -5⎥  ⎢0  0  1  0⎥  ⎢0  0  1\n",
       "  ⎣0   0  1⎦  ⎣0  0  1⎦⎦  ⎢⎢          ⎥  ⎢           ⎥  ⎢          ⎥  ⎢       \n",
       "                          ⎣⎣0  0  0  1⎦  ⎣0  0  0  1 ⎦  ⎣0  0  0  1⎦  ⎣0  0  0\n",
       "\n",
       "  -7⎤  ⎡1  0  0  0⎤  ⎡1  0  -2  0⎤  ⎡1  1  0  0⎤  ⎡1  0   0  0⎤  ⎡1  0  0  0⎤ \n",
       "    ⎥  ⎢          ⎥  ⎢           ⎥  ⎢          ⎥  ⎢           ⎥  ⎢          ⎥ \n",
       "  0 ⎥  ⎢0  1  1  0⎥  ⎢0  1  0   0⎥  ⎢0  1  0  0⎥  ⎢0  -1  0  0⎥  ⎢0  1  0  0⎥ \n",
       "    ⎥, ⎢          ⎥, ⎢           ⎥, ⎢          ⎥, ⎢           ⎥, ⎢          ⎥,\n",
       "  0 ⎥  ⎢0  0  1  0⎥  ⎢0  0  1   0⎥  ⎢0  0  1  0⎥  ⎢0  0   1  0⎥  ⎢1  0  1  0⎥ \n",
       "    ⎥  ⎢          ⎥  ⎢           ⎥  ⎢          ⎥  ⎢           ⎥  ⎢          ⎥ \n",
       "  1 ⎦  ⎣0  0  0  1⎦  ⎣0  0  0   1⎦  ⎣0  0  0  1⎦  ⎣0  0   0  1⎦  ⎣0  0  0  1⎦ \n",
       "\n",
       " ⎡0  1  0  0⎤⎤⎞\n",
       " ⎢          ⎥⎥⎟\n",
       " ⎢1  0  0  0⎥⎥⎟\n",
       " ⎢          ⎥⎥⎟\n",
       " ⎢0  0  1  0⎥⎥⎟\n",
       " ⎢          ⎥⎥⎟\n",
       " ⎣0  0  0  1⎦⎦⎠"
      ]
     },
     "execution_count": 57,
     "metadata": {},
     "output_type": "execute_result"
    }
   ],
   "source": [
    "#A = Matrix([\n",
    "#    [1,-1,2,1],\n",
    "#    [2,-1,0,3],\n",
    "#    [0,1,-4,1]\n",
    "#])\n",
    "#A = Matrix([\n",
    "#    [-6, 111, -36, 6],\n",
    "#    [5, -672, 210, 74],\n",
    "#    [0, -255, 81, 24],\n",
    "#    [-7, 255, -81, -10]\n",
    "#])\n",
    "A = Matrix([\n",
    "    [1,-1,1,2],\n",
    "    [2,-2,1,-1],\n",
    "    [-1,1,0,3]\n",
    "])\n",
    "SNF, U_decomposition, V_decomposition = smart_snf_decomposition_over_ring_zz(A)\n",
    "SNF, U_decomposition, V_decomposition"
   ]
  },
  {
   "cell_type": "code",
   "execution_count": 58,
   "metadata": {},
   "outputs": [
    {
     "data": {
      "text/latex": [
       "$\\displaystyle \\left( \\left[\\begin{matrix}3 & -1 & 0\\\\-1 & 0 & 0\\\\-1 & 1 & 1\\end{matrix}\\right], \\  \\left[\\begin{matrix}0 & -1 & -1 & 3\\\\1 & 1 & -1 & 0\\\\1 & 1 & 0 & -5\\\\0 & 0 & 0 & 1\\end{matrix}\\right], \\  \\left[\\begin{matrix}1 & 0 & 0 & 0\\\\0 & 1 & 0 & 0\\\\0 & 0 & 0 & 0\\end{matrix}\\right], \\  \\left[\\begin{matrix}1 & 0 & 0 & 0\\\\0 & 1 & 0 & 0\\\\0 & 0 & 0 & 0\\end{matrix}\\right]\\right)$"
      ],
      "text/plain": [
       "⎛             ⎡0  -1  -1  3 ⎤                            ⎞\n",
       "⎜⎡3   -1  0⎤  ⎢             ⎥  ⎡1  0  0  0⎤  ⎡1  0  0  0⎤⎟\n",
       "⎜⎢         ⎥  ⎢1  1   -1  0 ⎥  ⎢          ⎥  ⎢          ⎥⎟\n",
       "⎜⎢-1  0   0⎥, ⎢             ⎥, ⎢0  1  0  0⎥, ⎢0  1  0  0⎥⎟\n",
       "⎜⎢         ⎥  ⎢1  1   0   -5⎥  ⎢          ⎥  ⎢          ⎥⎟\n",
       "⎜⎣-1  1   1⎦  ⎢             ⎥  ⎣0  0  0  0⎦  ⎣0  0  0  0⎦⎟\n",
       "⎝             ⎣0  0   0   1 ⎦                            ⎠"
      ]
     },
     "execution_count": 58,
     "metadata": {},
     "output_type": "execute_result"
    }
   ],
   "source": [
    "U = 1\n",
    "for e_inv in U_decomposition:\n",
    "    U = e_inv * U\n",
    "V = 1\n",
    "for e_inv in V_decomposition:\n",
    "    V = e_inv * V\n",
    "U, V, SNF, U*A*V"
   ]
  },
  {
   "cell_type": "code",
   "execution_count": 59,
   "metadata": {},
   "outputs": [
    {
     "data": {
      "text/plain": [
       "True"
      ]
     },
     "execution_count": 59,
     "metadata": {},
     "output_type": "execute_result"
    }
   ],
   "source": [
    "S, SNF, T = smith(A)\n",
    "S*SNF*T == A"
   ]
  },
  {
   "cell_type": "code",
   "execution_count": 60,
   "metadata": {},
   "outputs": [
    {
     "data": {
      "text/plain": [
       "True"
      ]
     },
     "execution_count": 60,
     "metadata": {},
     "output_type": "execute_result"
    }
   ],
   "source": [
    "U = S.inv()\n",
    "V = T.inv()\n",
    "U*A*V == SNF"
   ]
  },
  {
   "cell_type": "code",
   "execution_count": null,
   "metadata": {},
   "outputs": [],
   "source": []
  }
 ],
 "metadata": {
  "kernelspec": {
   "display_name": "Python 3",
   "language": "python",
   "name": "python3"
  },
  "language_info": {
   "codemirror_mode": {
    "name": "ipython",
    "version": 3
   },
   "file_extension": ".py",
   "mimetype": "text/x-python",
   "name": "python",
   "nbconvert_exporter": "python",
   "pygments_lexer": "ipython3",
   "version": "3.9.2+"
  }
 },
 "nbformat": 4,
 "nbformat_minor": 2
}
